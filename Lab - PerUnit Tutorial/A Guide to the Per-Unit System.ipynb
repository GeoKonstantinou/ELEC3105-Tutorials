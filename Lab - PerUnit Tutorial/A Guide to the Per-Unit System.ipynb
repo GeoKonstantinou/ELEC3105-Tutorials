{
 "cells": [
  {
   "cell_type": "markdown",
   "id": "68e76b2f",
   "metadata": {},
   "source": [
    "# Why do we want to use the per-unit System"
   ]
  },
  {
   "cell_type": "markdown",
   "id": "342b04c4",
   "metadata": {},
   "source": [
    "## It simplifies our calculations:\n",
    "- It simplifies the analysis of power systems with multiple components (generators, transformers, transmission lines, and loads).\n",
    "- It makes parameter values of machines and transformers fall into a narrow range.\n",
    "- If we select the Base values properly, the range of numerical values that we expect to see in our calculations reduces a lot, which makes errors more noticeable - we can make very quick \"sanity checks\" of results!\n",
    "- It eliminates the need for voltage conversions in circuit with transforms, so there is no need to use ideal transformers in our circuit analysis."
   ]
  },
  {
   "cell_type": "markdown",
   "id": "1688eed0",
   "metadata": {},
   "source": [
    "## It normalises different quantities\n",
    "- It converts electrical quantities (kA, kV, MW etc) to a dimensionless form, making them easier to compare.\n",
    "- As it eliminates the voltage transformations and the ideal transformers in our circuit analysis, it keeps voltage levels close to unity (hopefully) across the system."
   ]
  },
  {
   "cell_type": "markdown",
   "id": "0b037e8b",
   "metadata": {},
   "source": [
    "## Base value selection is typically done based on rated power of components:\n",
    "- The base values (i.e., voltage, current, power, impedance) are selected to standardize calculations across our whole system.\n",
    "- We only need to select two of thees base quantities (typically voltage and power); the other two are derived from these."
   ]
  },
  {
   "cell_type": "markdown",
   "id": "1757d378",
   "metadata": {},
   "source": [
    "## It extendes to Three-Phase systems:\n",
    "- The per-unit system maintains balanced three-phase system relationships.\n",
    "- It allows the use of the same per-unit system and the same values for single-phase and three-phase systems.\n",
    "- Per-unit values for three-phase systems can be converted similarly to single-phase systems, simplifying complex analyses."
   ]
  },
  {
   "cell_type": "markdown",
   "id": "771f27b8",
   "metadata": {},
   "source": [
    "## It is widely applied in the industy:\n",
    "- Widely accepted and used in power system engineering for its analytical simplifications.\n",
    "- It is an essential tool for power system engineers to understand due to its broad industrial use.\n",
    "- Parameters of electrical components can be given in per-unit based on the rated power / voltage of that piece of equipment. "
   ]
  },
  {
   "cell_type": "markdown",
   "id": "93942274",
   "metadata": {},
   "source": [
    "# Practical Tips for Success in Using the Per-Unit System"
   ]
  },
  {
   "cell_type": "markdown",
   "id": "660eeea8",
   "metadata": {},
   "source": [
    "\n",
    "As we mentioned earlier, the per-unit system simplifies the analysis of electrical power systems by allowing us to normalise values (i.e., voltage, current, power, impedance) to a common base, making calculations easier and more consistent. \n",
    "\n",
    "Some practical tips for success in using the per-unit system.\n",
    "    "
   ]
  },
  {
   "cell_type": "markdown",
   "id": "159fb8dd",
   "metadata": {},
   "source": [
    "\n",
    "## 1. Consistent Base Selection\n",
    "- Choose consistent base values (power, voltage) across the entire system to avoid errors in calculations.\n",
    "- Follow on with transformations of voltages across the transformers in the system to eliminate voltage transformations in later calculations.\n",
    "- If the analysis focuses on a single component, choose the rated values of the component as base values. Otherwise, we can use base power values consistent with the expected power range of our system like 1 MVA, 10 MVA, 100 MVA, etc., and select base voltage values that correspond to the nominal system voltages.\n",
    "    "
   ]
  },
  {
   "cell_type": "markdown",
   "id": "867b7b50",
   "metadata": {},
   "source": [
    "\n",
    "## 2. Document Base Values\n",
    "- Clearly document and communicate the chosen base values for power and voltage. I suggest noting them to the side of your solutions and calculations so that you can refer or share them easily. \n",
    "- Clearly annotate diagrams and calculation steps with base values and per-unit conversions.\n",
    "- Use consistent symbols and notations for per-unit values to avoid confusion.\n",
    "- When converting actual values to per-unit and vice versa, ensure accuracy in the use of base values.\n",
    "- Use the correct formulas for converting voltage, current, impedance, and power to and from per-unit values.\n",
    "    - OHM'S LAW IS STILL OHM'S LAW IN PER-UNIT!!!\n",
    "\n"
   ]
  },
  {
   "cell_type": "markdown",
   "id": "48adedd5",
   "metadata": {},
   "source": [
    "\n",
    "## 3. Use Appropriate Units\n",
    "- Always ensure base values have the correct units (e.g., MVA for power, kV for voltage).\n",
    "- Maintain consistency in units throughout your calculations to avoid conversion errors.\n",
    "    "
   ]
  },
  {
   "cell_type": "markdown",
   "id": "5f62cd35",
   "metadata": {},
   "source": [
    "\n",
    "## 4. Check for Consistency\n",
    "- Verify that the per-unit values for voltage, current, and impedance maintain the relationships defined by Ohm's Law and power equations. These are easy calculations that you can do to confirm your results. \n",
    "- Perform sanity checks to ensure that per-unit values fall within expected ranges (typically near unity if you have selected your values appropriately; see Tip 1).\n",
    "    "
   ]
  },
  {
   "cell_type": "markdown",
   "id": "8943c575",
   "metadata": {},
   "source": [
    "\n",
    "## 5. Simplify Three-Phase Systems\n",
    "- Extend the per-unit system to three-phase systems by maintaining balanced relationships.\n",
    "- Use the same base values for all phases to ensure consistency and simplify calculations.\n",
    "    "
   ]
  },
  {
   "cell_type": "markdown",
   "id": "f45e00ad",
   "metadata": {},
   "source": [
    "## 6. Understand the System's Physical Limits\n",
    "- Be aware of the physical limits and ratings of system components when choosing base values - always refer back to these values after your calculations. \n",
    "- Ensure that the chosen base values reflect actual operating conditions of the system - or are quite close. \n",
    "    - You can use any value you want for base, but an appropriate selection will make your life a lot easier. "
   ]
  },
  {
   "cell_type": "markdown",
   "id": "23e44e91",
   "metadata": {},
   "source": [
    "# A step-by-step guide to the per-unit system"
   ]
  },
  {
   "cell_type": "markdown",
   "id": "e63f224b",
   "metadata": {},
   "source": [
    "## Step 1: Select Base Values\n",
    "See tips above:\n",
    "\n",
    "Choose Base Power ($S_{\\text{base}}$)\n",
    "\n",
    "Choose Base Voltage ($V_{\\text{base}}$)\n"
   ]
  },
  {
   "cell_type": "markdown",
   "id": "c3d7af47",
   "metadata": {},
   "source": [
    "## Step 2: Calculate Derived Base Quantities\n",
    "\n",
    "Base Current ($ I_{\\text{base}} $):\n",
    "$$ I_{\\text{base}} = \\frac{S_{\\text{base}}}{V_{\\text{base}}} $$\n",
    "\n",
    "Base Impedance ($ Z_{\\text{base}} $):\n",
    "$$ Z_{\\text{base}} = \\frac{V_{\\text{base}}^2}{S_{\\text{base}}} $$"
   ]
  },
  {
   "cell_type": "markdown",
   "id": "12784d1d",
   "metadata": {},
   "source": [
    "## Step 3: Convert Actual Values to Per-Unit Values\n",
    "\n",
    "Voltage ($ V_{\\text{pu}}$):\n",
    "$$ V_{\\text{pu}} = \\frac{V_{\\text{actual}}}{V_{\\text{base}}} $$\n",
    "\n",
    "Current ($ I_{\\text{pu}}$):\n",
    "$$ I_{\\text{pu}} = \\frac{I_{\\text{actual}}}{I_{\\text{base}}} $$\n",
    "\n",
    "Impedance ($ Z_{\\text{pu}} $):\n",
    "$$ Z_{\\text{pu}} = \\frac{Z_{\\text{actual}}}{Z_{\\text{base}}} $$\n",
    "\n",
    "Power ($ S_{\\text{pu}} $):\n",
    "$$ S_{\\text{pu}} = \\frac{S_{\\text{actual}}}{S_{\\text{base}}} $$"
   ]
  },
  {
   "cell_type": "markdown",
   "id": "1eccf636",
   "metadata": {},
   "source": [
    "## Step 4: Perform Calculations in Per-Unit\n",
    "\n",
    "### Ohm's Law in Per-Unit:\n",
    "The basic electrical relationships remain the same.\n",
    "$$ V_{\\text{pu}} = I_{\\text{pu}} \\times Z_{\\text{pu}}$$\n",
    "\n",
    "### Power Equations:\n",
    "$$ S_{\\text{pu}} = V_{\\text{pu}} \\times I_{\\text{pu}}^* $$\n",
    "\n",
    "### Circuit Analysis:\n",
    "- Apply standard electrical analysis techniques (e.g., Kirchhoff's laws) using per-unit values.\n",
    "- For transformers, the turns ratio in per-unit is 1:1, simplifying the equivalent circuit.\n"
   ]
  },
  {
   "cell_type": "markdown",
   "id": "601910b6",
   "metadata": {},
   "source": [
    "## Step 5: Convert Per-Unit Values Back to Actual Values (If Needed)\n",
    "\n",
    "### Voltage:\n",
    "$$ V_{\\text{actual}} = V_{\\text{pu}} \\times V_{\\text{base}} $$\n",
    "\n",
    "### Current:\n",
    "$$ I_{\\text{actual}} = I_{\\text{pu}} \\times I_{\\text{base}} $$\n",
    "\n",
    "### Impedance:\n",
    "$$Z_{\\text{actual}} = Z_{\\text{pu}} \\times Z_{\\text{base}} $$\n",
    "\n",
    "### Power:\n",
    "$$ S_{\\text{actual}} = S_{\\text{pu}} \\times S_{\\text{base}} $$"
   ]
  },
  {
   "cell_type": "markdown",
   "id": "98c9e3e5",
   "metadata": {},
   "source": [
    "\n",
    "## A brief example \n",
    "\n",
    "### Given:\n",
    "- A transformer rated at 100 MVA, 13.8 kV/138 kV.\n",
    "- Actual load: 60 MVA at 0.8 power factor lagging.\n",
    "- System base: 100 MVA, 13.8 kV.\n",
    "- Per-Unit Impedance of Transformer: 0.1 pu\n",
    "\n",
    "What is the voltage drop across the transformer?\n",
    "    "
   ]
  },
  {
   "cell_type": "code",
   "execution_count": 5,
   "id": "5a5bd969",
   "metadata": {},
   "outputs": [
    {
     "name": "stdout",
     "output_type": "stream",
     "text": [
      "Base Current (I_base): 7.246376811594202 kA\n",
      "Base Impedance (Z_base): 1.9044000000000003 ohms\n"
     ]
    }
   ],
   "source": [
    "# Step-by-step calculations for the example provided\n",
    "\n",
    "# Given values\n",
    "S_base = 100  # in MVA\n",
    "V_base = 13.8  # in kV\n",
    "S_actual = 60  # in MVA\n",
    "pf = 0.8  # power factor\n",
    "\n",
    "# Step 2: Calculate derived base quantities\n",
    "I_base = S_base / V_base  # in kA\n",
    "Z_base = (V_base ** 2) / S_base  # in ohms\n",
    "\n",
    "# Display base quantities\n",
    "print(\"Base Current (I_base):\", I_base, \"kA\")\n",
    "print(\"Base Impedance (Z_base):\", Z_base, \"ohms\")\n"
   ]
  },
  {
   "cell_type": "code",
   "execution_count": 6,
   "id": "6df8dd55",
   "metadata": {},
   "outputs": [
    {
     "name": "stdout",
     "output_type": "stream",
     "text": [
      "Per-Unit Voltage (V_pu): 1.0\n",
      "Per-Unit Power (S_pu): 0.6\n",
      "Per-Unit Current (I_pu): 0.6\n"
     ]
    }
   ],
   "source": [
    "# Step 3: Convert actual values to per-unit values\n",
    "\n",
    "# Load voltage in per-unit (assume operating voltage = base voltage)\n",
    "V_pu = 13.8 / 13.8\n",
    "\n",
    "# Load power in per-unit\n",
    "S_pu = S_actual / S_base\n",
    "\n",
    "# Load current in per-unit\n",
    "I_pu = S_pu / V_pu\n",
    "\n",
    "# Display per-unit values\n",
    "print(\"Per-Unit Voltage (V_pu):\", V_pu)\n",
    "print(\"Per-Unit Power (S_pu):\", S_pu)\n",
    "print(\"Per-Unit Current (I_pu):\", I_pu)\n"
   ]
  },
  {
   "cell_type": "code",
   "execution_count": 7,
   "id": "40773683",
   "metadata": {},
   "outputs": [
    {
     "name": "stdout",
     "output_type": "stream",
     "text": [
      "Voltage Drop in Per-Unit (V_pu_drop): 0.06\n"
     ]
    }
   ],
   "source": [
    "# Step 4: Perform calculations in per-unit\n",
    "Z_pu = 0.1\n",
    "\n",
    "# Voltage in per-unit\n",
    "V_pu_drop = I_pu * Z_pu\n",
    "\n",
    "# Display voltage drop in per-unit\n",
    "print(\"Voltage Drop in Per-Unit (V_pu_drop):\", V_pu_drop)\n"
   ]
  },
  {
   "cell_type": "code",
   "execution_count": 5,
   "id": "3bd5b9c1",
   "metadata": {},
   "outputs": [
    {
     "name": "stdout",
     "output_type": "stream",
     "text": [
      "Actual Voltage Drop (V_actual_drop): 0.828 kV\n",
      "Actual Load Current (I_actual): 4.3478260869565215 kA\n"
     ]
    }
   ],
   "source": [
    "# Step 5: Convert per-unit values back to actual values\n",
    "\n",
    "# Voltage drop across the transformer\n",
    "V_actual_drop = V_pu_drop * V_base  # in kV\n",
    "\n",
    "# Actual load current\n",
    "I_actual = I_pu * I_base  # in kA\n",
    "\n",
    "# Display actual values\n",
    "print(\"Actual Voltage Drop (V_actual_drop):\", V_actual_drop, \"kV\")\n",
    "print(\"Actual Load Current (I_actual):\", I_actual, \"kA\")\n"
   ]
  }
 ],
 "metadata": {
  "kernelspec": {
   "display_name": "Python 3 (ipykernel)",
   "language": "python",
   "name": "python3"
  },
  "language_info": {
   "codemirror_mode": {
    "name": "ipython",
    "version": 3
   },
   "file_extension": ".py",
   "mimetype": "text/x-python",
   "name": "python",
   "nbconvert_exporter": "python",
   "pygments_lexer": "ipython3",
   "version": "3.9.13"
  }
 },
 "nbformat": 4,
 "nbformat_minor": 5
}
