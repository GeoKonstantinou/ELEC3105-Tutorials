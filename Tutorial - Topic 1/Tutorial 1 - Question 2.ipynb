{
 "cells": [
  {
   "cell_type": "markdown",
   "id": "af23dba3",
   "metadata": {},
   "source": [
    "# ELEC 3105\n",
    "## Tutorial 1 - Energy Generation\n",
    "## Question 2"
   ]
  },
  {
   "cell_type": "code",
   "execution_count": 1,
   "id": "67495d07",
   "metadata": {},
   "outputs": [
    {
     "data": {
      "text/html": [
       "<button onclick=\"$('.input, .prompt, .output_stderr, .output_error').toggle();\n",
       "\">Click here to toggle on/off the raw code</button>"
      ]
     },
     "metadata": {},
     "output_type": "display_data"
    }
   ],
   "source": [
    "from IPython.display import display_html\n",
    "display_html(\"\"\"<button onclick=\"$('.input, .prompt, .output_stderr, .output_error').toggle();\n",
    "\">Click here to toggle on/off the raw code</button>\"\"\", raw=True)"
   ]
  },
  {
   "cell_type": "code",
   "execution_count": 2,
   "id": "03cd7dad",
   "metadata": {},
   "outputs": [
    {
     "name": "stdout",
     "output_type": "stream",
     "text": [
      "Populating the interactive namespace from numpy and matplotlib\n"
     ]
    }
   ],
   "source": [
    "%pylab inline\n",
    "%precision %.4g\n",
    "import cmath\n",
    "from scipy import constants as c   # Enables constants in the Notebook"
   ]
  },
  {
   "cell_type": "markdown",
   "id": "2347825f",
   "metadata": {},
   "source": [
    "A 40 m, three-bladed wind turbine produced 600 kW at a windspeed of 14 m/s. Air density is the standard 1.225 kg/m$^3$. Under these conditions,\n",
    "1.  At what rpm does the rotor turn when it operates with a TSR of 4.0?\n",
    "2.  What is the tip speed of the rotor?\n",
    "3. if the generator needs to turn at 1800 rpm, what gear ratio is needed to match the rotor speed to the generator spped?\n",
    "4. What is the efficiency of the complete wind turbine (blades, gear box, generator) under these conditions?\n"
   ]
  },
  {
   "cell_type": "markdown",
   "id": "82cf7600",
   "metadata": {},
   "source": [
    "### Answer"
   ]
  }
 ],
 "metadata": {
  "kernelspec": {
   "display_name": "Python 3",
   "language": "python",
   "name": "python3"
  },
  "language_info": {
   "codemirror_mode": {
    "name": "ipython",
    "version": 3
   },
   "file_extension": ".py",
   "mimetype": "text/x-python",
   "name": "python",
   "nbconvert_exporter": "python",
   "pygments_lexer": "ipython3",
   "version": "3.8.8"
  }
 },
 "nbformat": 4,
 "nbformat_minor": 5
}
