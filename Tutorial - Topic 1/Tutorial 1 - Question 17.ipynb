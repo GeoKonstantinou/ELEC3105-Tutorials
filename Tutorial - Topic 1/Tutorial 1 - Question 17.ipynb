{
 "cells": [
  {
   "cell_type": "markdown",
   "id": "af23dba3",
   "metadata": {},
   "source": [
    "# ELEC 3105\n",
    "## Tutorial 1 - Energy Generation\n",
    "## Question 17"
   ]
  },
  {
   "cell_type": "code",
   "execution_count": 1,
   "id": "67495d07",
   "metadata": {},
   "outputs": [
    {
     "data": {
      "text/html": [
       "<button onclick=\"$('.input, .prompt, .output_stderr, .output_error').toggle();\n",
       "\">Click here to toggle on/off the raw code</button>"
      ]
     },
     "metadata": {},
     "output_type": "display_data"
    }
   ],
   "source": [
    "from IPython.display import display_html\n",
    "display_html(\"\"\"<button onclick=\"$('.input, .prompt, .output_stderr, .output_error').toggle();\n",
    "\">Click here to toggle on/off the raw code</button>\"\"\", raw=True)"
   ]
  },
  {
   "cell_type": "code",
   "execution_count": 2,
   "id": "03cd7dad",
   "metadata": {},
   "outputs": [
    {
     "name": "stdout",
     "output_type": "stream",
     "text": [
      "Populating the interactive namespace from numpy and matplotlib\n"
     ]
    }
   ],
   "source": [
    "%pylab inline\n",
    "%precision %.4g\n",
    "import cmath\n",
    "from scipy import constants as c   # Enables constants in the Notebook"
   ]
  },
  {
   "cell_type": "markdown",
   "id": "2347825f",
   "metadata": {},
   "source": [
    "A ideal PV cell with a reverse saturation current of 1~nA is operating at 30$^{\\circ}$C. The solar photocurrent, $I_{ph}$ at 30$^{\\circ}$C is 1 A. Compute the output voltage, power of the P/V cell when the load draws rated current of 0.5 A. Also, calculate the open circuit voltage of the cell.\n",
    "\t\n",
    "Compute the output power, current and voltage if the ideal PV cell is connected in the following arrangements:\n",
    "\n",
    "1. When the PV cells are connected as a panel (module). The panel consists of four parallel columns and each column has 10 cells connected in series.\n",
    "2. When several panels are connected as an array. The array consists of two parallel columns and each column has four modules connected in series. \n",
    "3. When several arrays are connected as a PV system. The PV system consists of 10 parallel columns and each column has 20 arrays connected in series."
   ]
  },
  {
   "cell_type": "markdown",
   "id": "82cf7600",
   "metadata": {},
   "source": [
    "### Answer"
   ]
  }
 ],
 "metadata": {
  "kernelspec": {
   "display_name": "Python 3",
   "language": "python",
   "name": "python3"
  },
  "language_info": {
   "codemirror_mode": {
    "name": "ipython",
    "version": 3
   },
   "file_extension": ".py",
   "mimetype": "text/x-python",
   "name": "python",
   "nbconvert_exporter": "python",
   "pygments_lexer": "ipython3",
   "version": "3.8.8"
  }
 },
 "nbformat": 4,
 "nbformat_minor": 5
}
