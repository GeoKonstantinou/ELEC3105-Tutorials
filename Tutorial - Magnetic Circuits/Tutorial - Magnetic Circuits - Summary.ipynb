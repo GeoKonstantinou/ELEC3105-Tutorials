{
 "cells": [
  {
   "cell_type": "markdown",
   "id": "fbfbc4f2",
   "metadata": {},
   "source": [
    "# UNSW Sydney\n",
    "# School of Electrical Engineering and Telecommunications\n",
    "## Term 2, 2024\n",
    "### A Brief Summary of Magnetism and Magnetic Properties"
   ]
  },
  {
   "cell_type": "markdown",
   "id": "18c30bfb",
   "metadata": {},
   "source": [
    "## Definitions\n",
    "### Magnetic Permeability (µ):\n",
    "Magnetic permeability µ is a measure of how a material responds to an applied magnetic field and is defined\n",
    "as the ratio of the magnetic induction B to the magnetic field H.\n",
    "\n",
    "$$\\mu = \\frac{B}{H}$$\n",
    "\n",
    "In a vacuum, the permeability µ0 is a constant, approximately $4\\pi \\times 10^{-7} H/m$ (Henries per meter), and\n",
    "typically for magnetic materials µ ≫ µ0.\n",
    "\n",
    "We define relative permeability as\n",
    "\n",
    "$$\\mu_r = \\frac{\\mu}{\\mu_0}$$\n",
    "\n",
    "where $\\mu_r$ is the relative permeability, $\\mu$ is the permeability of the material, and $\\mu_0$ is the permeability of free\n",
    "space."
   ]
  },
  {
   "cell_type": "markdown",
   "id": "8201ad24",
   "metadata": {},
   "source": [
    "### Magnetic Susceptibility (χ):\n",
    "A measure of how much a material will become magnetized in an applied magnetic field.\n",
    "\n",
    "$$\\chi = \\frac{M}{H}$$\n",
    "\n",
    "where M is magnetisation (the magnetic moment per unit volume, a measure of how much a material will\n",
    "become magnetised in an applied magnetic field) and H is the magnetic field strength."
   ]
  },
  {
   "cell_type": "markdown",
   "id": "1368c4f4",
   "metadata": {},
   "source": [
    "### Hysteresis\n",
    "When an external magnetising force is applied to a material, the magnetic moments of the material align\n",
    "with the applied magnetic field, resulting in a larger flux density than would be produced by the magnetising\n",
    "force alone. This causes the effective permeability µ (the ratio of the total magnetic flux density B to the\n",
    "applied magnetic-field intensity H) to be much larger compared to the permeability of free space $\\mu_0$. As\n",
    "the magnetising force increases, this alignment continues until the material reaches saturation, where all\n",
    "magnetic moments are aligned with the applied field and cannot further increase the flux density.\n",
    "\n",
    "Without an external magnetising force, the magnetic moments align along specific directions associated with\n",
    "the crystal structure, known as axes of easy magnetisation. If the applied magnetising force is reduced, the\n",
    "magnetic moments relax to the nearest easy magnetisation direction. When the applied field is reduced to\n",
    "zero, the magnetic dipole moments retain a net magnetisation component along the direction of the applied\n",
    "field due to this relaxation, causing magnetic hysteresis. This behaviour is represented by the B-H curve\n",
    "\n",
    "![Hysteresis Loop](path/to/your/image.png)\n",
    "\n",
    "or hysteresis loop, where the B-H curve describes the relationship between magnetic flux density B and\n",
    "magnetic field intensity H.\n",
    "\n",
    "The phenomenon of hysteresis is responsible for the retention of a net magnetisation component even after\n",
    "the external magnetic field is removed. The most common curve used to describe this behavior in magnetic\n",
    "materials is the B-H curve or hysteresis loop."
   ]
  },
  {
   "cell_type": "markdown",
   "id": "f42553ef",
   "metadata": {},
   "source": [
    "### Analogy Between Electric and Magnetic Circuits\n",
    "\n",
    "| Quantity | Electric circuit | Magnetic circuit |\n",
    "|----------|-----------------|------------------|\n",
    "| Voltage | Electric voltage V [V] | Magnetic voltage Vµ [A] |\n",
    "| Voltage source | Electromotive force EMF E [V] | Magnetomotive force MMF F [A] |\n",
    "| Current/Magnetic flux | Electric current I [A] | Magnetic flux Φ [Wb] |\n",
    "| Resistance/Reluctance | Resistance R [Ω = 1/S] | Reluctance Rµ [1/H = A/(Vs)] |\n",
    "| Conductance/Permeance | Conductance G [S = 1/Ω] | Permeance Gµ [H = Vs/A] |\n",
    "| Constant | Electric conductivity σ [S/m] | Magnetic permeability µ [H/m] |"
   ]
  },
  {
   "cell_type": "markdown",
   "id": "e16cc2c9",
   "metadata": {},
   "source": [
    "### Force in an Electromagnetic Field\n",
    "The Lorentz (or electromagnetic) force is the combination of the electric and magnetic forces on a point\n",
    "charge q due to the presence of an electromagnetic field. The Lorentz force is given by:\n",
    "\n",
    "$$F = q(E + v \\times B)$$\n",
    "\n",
    "where qE is the electric force and q(v×B) is the magnetic force.\n",
    "\n",
    "The equation of motion for a free particle with charge q and mass m moving in electric and magnetic fields is:\n",
    "\n",
    "$$m \\frac{dv}{dt} = qE + qv \\times B$$\n",
    "\n",
    "When a particle is subject to a force F and moves a distance $\\Delta r$ in a time interval $\\Delta t$, the work done on the\n",
    "particle by the force is:\n",
    "\n",
    "$$\\Delta W = F \\cdot \\Delta r$$\n",
    "\n",
    "The power input to the particle from the force field is:\n",
    "\n",
    "$$P = \\lim_{\\Delta t \\to 0} \\frac{\\Delta W}{\\Delta t} = F \\cdot v$$\n",
    "\n",
    "where v is the velocity of the particle. From the Lorentz force law, the power input to the particle moving in\n",
    "electric and magnetic fields is:\n",
    "\n",
    "$$P = qv \\cdot E$$\n",
    "\n",
    "The electric field is the only cause of a charged particle to gain or lose energy (Accelerate or decelerate).\n",
    "The magnetic force is always perpendicular to the direction of motion of the particle and does not do any\n",
    "work on the particle."
   ]
  },
  {
   "cell_type": "markdown",
   "id": "e3318be4",
   "metadata": {},
   "source": [
    "## Materials\n",
    "### Ferromagnetic Materials\n",
    "Ferromagnetic materials exhibit strong magnetic ordering, where the magnetic moments of atoms align\n",
    "parallel to each other, resulting in a strong overall magnetic field. This alignment occurs even in the absence\n",
    "of an external magnetic field. Examples of such materials are: Iron, cobalt, nickel, and their alloys. These\n",
    "materials can retain their magnetisation after the external magnetic field is removed (hysteresis), making\n",
    "them useful for permanent magnets.\n",
    "\n",
    "The magnetisation M is related to the magnetic field H by the magnetic susceptibility χ as $M = χH$.\n",
    "Ferromagnetic materials exhibit hysteresis, represented by the equation for the magnetic hysteresis loop."
   ]
  },
  {
   "cell_type": "markdown",
   "id": "e7c5dd45",
   "metadata": {},
   "source": [
    "### Ferrimagnetic Materials\n",
    "Ferrimagnetic materials have magnetic moments of atoms aligned in opposite directions, but with unequal\n",
    "magnitudes, resulting in a net magnetic moment. Examples of such materials are: Magnetite (Fe3O4), some\n",
    "garnets, and ferrites. They have properties similar to ferromagnetic materials but typically have lower net\n",
    "magnetisation.\n",
    "\n",
    "Similar to ferromagnetic materials, but with unequal opposing magnetic moments: $M = \\sum_i M_i$ where $M_i$ are\n",
    "the individual magnetic moments."
   ]
  },
  {
   "cell_type": "markdown",
   "id": "78914140",
   "metadata": {},
   "source": [
    "### Antiferromagnetic Materials\n",
    "In antiferromagnetic materials, the magnetic moments of atoms align in opposite directions with equal\n",
    "magnitude, resulting in no net macroscopic magnetisation. Examples of such materials are: Manganese\n",
    "oxide (MnO), iron oxide (FeO), and nickel oxide (NiO). These materials exhibit a transition temperature (Néel\n",
    "temperature) above which they become paramagnetic. The net magnetisation M is zero: $M = 0$ as the\n",
    "opposing magnetic moments cancel each other out."
   ]
  },
  {
   "cell_type": "markdown",
   "id": "b2973653",
   "metadata": {},
   "source": [
    "### Paramagnetic Materials\n",
    "Paramagnetic materials have unpaired electrons that align with an external magnetic field, resulting in weak\n",
    "magnetisation in the direction of the applied field. Examples of such materials are: Aluminium, platinum, and\n",
    "certain metal complexes. They do not retain magnetisation in the absence of an external magnetic field, and\n",
    "their magnetisation is directly proportional to the applied magnetic field and temperature (Curie law).\n",
    "\n",
    "The magnetisation M is given by: $M = χH$, where χ is positive and small."
   ]
  },
  {
   "cell_type": "markdown",
   "id": "870efffd",
   "metadata": {},
   "source": [
    "### Diamagnetic Materials\n",
    "Diamagnetic materials create an induced magnetic field in a direction opposite to an externally applied\n",
    "magnetic field, leading to weak repulsion. Examples of such materials are: Bismuth, copper, lead, and most\n",
    "organic compounds. Diamagnetic properties are present in all materials but are usually very weak and only\n",
    "noticeable in materials with no other magnetic properties.\n",
    "\n",
    "The magnetisation M is given by: $M = χH$, where χ is negative."
   ]
  }
 ],
 "metadata": {
  "kernelspec": {
   "display_name": "Python 3 (ipykernel)",
   "language": "python",
   "name": "python3"
  },
  "language_info": {
   "codemirror_mode": {
    "name": "ipython",
    "version": 3
   },
   "file_extension": ".py",
   "mimetype": "text/x-python",
   "name": "python",
   "nbconvert_exporter": "python",
   "pygments_lexer": "ipython3",
   "version": "3.9.13"
  }
 },
 "nbformat": 4,
 "nbformat_minor": 5
}
