{
 "cells": [
  {
   "cell_type": "markdown",
   "id": "a693ccfb",
   "metadata": {},
   "source": [
    "## ELEC 3105\n",
    "## Tutorial - Magnetic Circuits\n",
    "## Question 17"
   ]
  },
  {
   "cell_type": "code",
   "execution_count": 1,
   "id": "cb7bd626",
   "metadata": {},
   "outputs": [
    {
     "data": {
      "text/html": [
       "<button onclick=\"$('.input, .prompt, .output_stderr, .output_error').toggle();\n",
       "\">Click here to toggle on/off the raw code</button>"
      ]
     },
     "metadata": {},
     "output_type": "display_data"
    }
   ],
   "source": [
    "from IPython.display import display_html\n",
    "display_html(\"\"\"<button onclick=\"$('.input, .prompt, .output_stderr, .output_error').toggle();\n",
    "\">Click here to toggle on/off the raw code</button>\"\"\", raw=True)"
   ]
  },
  {
   "cell_type": "code",
   "execution_count": 2,
   "id": "feddca3c",
   "metadata": {},
   "outputs": [
    {
     "name": "stdout",
     "output_type": "stream",
     "text": [
      "Populating the interactive namespace from numpy and matplotlib\n"
     ]
    }
   ],
   "source": [
    "%pylab inline\n",
    "%precision %.4g\n",
    "import cmath\n",
    "from scipy import constants as c   # Enables constants in the Notebook"
   ]
  },
  {
   "cell_type": "markdown",
   "id": "5b6f65bd",
   "metadata": {},
   "source": [
    "The two outer limbs of the magnetic circuit of the following figure have two air gaps. The center limb has two coils which are wound in the opposite sense (i.e., positive current in each winding produces magnetic fields in opposite directions). The numbers of turns on the top and the bottom windings are 700 and 200, respectively. The two coils are connected in series as shown in \\ref{fig:T1F3} and carry 0.5A. The physical dimensions of the core are given below."
   ]
  },
  {
   "cell_type": "code",
   "execution_count": 3,
   "id": "c4d5097e",
   "metadata": {},
   "outputs": [
    {
     "data": {
      "image/png": "[encoded data removed]",
      "text/plain": [
       "<IPython.core.display.Image object>"
      ]
     },
     "execution_count": 3,
     "metadata": {
      "image/png": {
       "height": 400,
       "width": 400
      }
     },
     "output_type": "execute_result"
    }
   ],
   "source": [
    "from IPython.display import Image\n",
    "Image(filename=\"Figures\\TMC_Q17_Fig1.png\",width=400,height=400)"
   ]
  },
  {
   "cell_type": "markdown",
   "id": "fe2b353c",
   "metadata": {},
   "source": [
    "$l_{g1}$ = 1mm, $l_{g2}$ = 1 mm, $l_1$ = $l_2$ = $l_4$ = $l_5$ = 2.5cm,  $l_3$ = 5cm, $l_6$ = 15cm; Depth of the core = 2.5cm, Permeability of the core = very high ($\\infty$) \n",
    "\n",
    "Find the flux ($\\phi$) and flux density ($B$) in the two air gaps and in the center limb. "
   ]
  },
  {
   "cell_type": "markdown",
   "id": "1ad93de2",
   "metadata": {},
   "source": [
    "### Answer"
   ]
  },
  {
   "cell_type": "markdown",
   "id": "1e47bb79",
   "metadata": {},
   "source": [
    "Because the core is symmetric, we can do all the analysis considering half the core. From Ampere's Law $N\\cdot I = H_c l_c + H_g \\cdot l_g$ and since the core is infinitely permeable, $H_c = 0$"
   ]
  },
  {
   "cell_type": "code",
   "execution_count": 4,
   "id": "37b1b73f",
   "metadata": {},
   "outputs": [],
   "source": [
    "lg1 = 0.001 #[m]\n",
    "lg2 = 0.001 #[m]\n",
    "l1 = l2 = l4 = l5 = 0.025 #[m]\n",
    "l3 = 0.05  #[m]\n",
    "l6 = 0.15  #[m]\n",
    "d = 0.025  #[m]\n",
    "N1 = 700\n",
    "N2 = 200\n",
    "I = 0.5 # [A]"
   ]
  },
  {
   "cell_type": "code",
   "execution_count": 5,
   "id": "dd7a8cf4",
   "metadata": {},
   "outputs": [
    {
     "name": "stdout",
     "output_type": "stream",
     "text": [
      "Hg = 250000.00 AT/m\n"
     ]
    }
   ],
   "source": [
    "Hg = (N1- N2)* I / lg1\n",
    "print('Hg = {:.2f} AT/m'.format(Hg))"
   ]
  },
  {
   "cell_type": "code",
   "execution_count": 6,
   "id": "018945cd",
   "metadata": {},
   "outputs": [
    {
     "name": "stdout",
     "output_type": "stream",
     "text": [
      "Bg = 0.314 T\n"
     ]
    }
   ],
   "source": [
    "Bg = c.mu_0 * Hg\n",
    "print('Bg = {:.3f} T'.format(Bg))"
   ]
  },
  {
   "cell_type": "code",
   "execution_count": 7,
   "id": "b8618779",
   "metadata": {},
   "outputs": [
    {
     "name": "stdout",
     "output_type": "stream",
     "text": [
      "φ_side = 0.000196 Wb\n"
     ]
    }
   ],
   "source": [
    "flux_side = Bg * (l1*d) \n",
    "print('φ_side = {:.6f} Wb'.format(flux_side))"
   ]
  },
  {
   "cell_type": "code",
   "execution_count": 9,
   "id": "504e2c4d",
   "metadata": {},
   "outputs": [
    {
     "name": "stdout",
     "output_type": "stream",
     "text": [
      "φ_middle = 0.000393 Wb\n"
     ]
    }
   ],
   "source": [
    "flux_middle = 2 * flux_side\n",
    "print('φ_middle = {:.6f} Wb'.format(flux_middle))"
   ]
  },
  {
   "cell_type": "markdown",
   "id": "860682f5",
   "metadata": {},
   "source": [
    "The magnetic flux density in the middle is $B_m = \\dfrac{\\phi_m}{A_m}$:"
   ]
  },
  {
   "cell_type": "code",
   "execution_count": 10,
   "id": "059c3bc2",
   "metadata": {},
   "outputs": [
    {
     "name": "stdout",
     "output_type": "stream",
     "text": [
      "Bm = 0.314 T\n"
     ]
    }
   ],
   "source": [
    "Bm = flux_middle / (l3 * d)\n",
    "print('Bm = {:.3f} T'.format(Bm))"
   ]
  }
 ],
 "metadata": {
  "kernelspec": {
   "display_name": "Python 3",
   "language": "python",
   "name": "python3"
  },
  "language_info": {
   "codemirror_mode": {
    "name": "ipython",
    "version": 3
   },
   "file_extension": ".py",
   "mimetype": "text/x-python",
   "name": "python",
   "nbconvert_exporter": "python",
   "pygments_lexer": "ipython3",
   "version": "3.8.8"
  }
 },
 "nbformat": 4,
 "nbformat_minor": 5
}
