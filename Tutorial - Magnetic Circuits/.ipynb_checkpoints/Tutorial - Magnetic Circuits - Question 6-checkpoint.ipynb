{
 "cells": [
  {
   "cell_type": "markdown",
   "id": "0c97f71f",
   "metadata": {},
   "source": [
    "# ELEC 3105\n",
    "## Tutorial - Magnetic Circuits\n",
    "## Question 6"
   ]
  },
  {
   "cell_type": "code",
   "execution_count": 1,
   "id": "3bcd2180",
   "metadata": {},
   "outputs": [
    {
     "data": {
      "text/html": [
       "<button onclick=\"$('.input, .prompt, .output_stderr, .output_error').toggle();\n",
       "\">Click here to toggle on/off the raw code</button>"
      ]
     },
     "metadata": {},
     "output_type": "display_data"
    }
   ],
   "source": [
    "from IPython.display import display_html\n",
    "display_html(\"\"\"<button onclick=\"$('.input, .prompt, .output_stderr, .output_error').toggle();\n",
    "\">Click here to toggle on/off the raw code</button>\"\"\", raw=True)"
   ]
  },
  {
   "cell_type": "code",
   "execution_count": 2,
   "id": "070aa422",
   "metadata": {},
   "outputs": [
    {
     "name": "stdout",
     "output_type": "stream",
     "text": [
      "Populating the interactive namespace from numpy and matplotlib\n"
     ]
    }
   ],
   "source": [
    "%pylab inline\n",
    "%precision %.4g\n",
    "import cmath\n",
    "from scipy import constants as c   # Enables constants in the Notebook"
   ]
  },
  {
   "cell_type": "markdown",
   "id": "48ca40f4",
   "metadata": {},
   "source": [
    "A magnetic circuit, as shown in the figure below, is constructed using wrought iron (https://en.wikipedia.org/wiki/Wrought_iron). The cross-section of the central limb is 6$cm^2$ and each outer limb is 4$cm^2$. If the number of turns in the coil is 500, determine the current required to set a flux of 1mWb in the central limb. \n",
    "\n",
    "The $B-H$ curve data points of interest for the wrought iron are the following:\n",
    "\n",
    "$B_1$: 1.25 $Wb/m^2$ -- $H_1$: 600 $AT/m^2$\n",
    "\n",
    "$B_2$: 1.67 $Wb/m^2$ -- $H_2$: 2100 $AT/m^2$"
   ]
  },
  {
   "cell_type": "markdown",
   "id": "7d72854f",
   "metadata": {},
   "source": [
    "### Answer"
   ]
  },
  {
   "cell_type": "markdown",
   "id": "771569ec",
   "metadata": {},
   "source": [
    "In order to answer this question, we will need to calculate the total Ampere-turns required to create the magnetic field in the core and then work out the current we need to supply to the coil. "
   ]
  },
  {
   "cell_type": "raw",
   "id": "e8453551",
   "metadata": {},
   "source": [
    "For the central limb of the core:"
   ]
  },
  {
   "cell_type": "code",
   "execution_count": 3,
   "id": "b28812ea",
   "metadata": {},
   "outputs": [],
   "source": [
    "N= 500 # [turns] coil in the middle limb\n",
    "lcenter = 0.15 # [m] length of the central limb\n",
    "Acenter = 0.0006 # [$m^2$] cross-sectional area\n",
    "phi = 0.001 # [Wb] flux"
   ]
  },
  {
   "cell_type": "code",
   "execution_count": 4,
   "id": "0ca80231",
   "metadata": {},
   "outputs": [
    {
     "name": "stdout",
     "output_type": "stream",
     "text": [
      "Bcenter = 1.67 Wb/m2\n"
     ]
    }
   ],
   "source": [
    "Bcenter = phi / Acenter\n",
    "print('Bcenter = {:.2f} Wb/m2'.format(Bcenter))"
   ]
  },
  {
   "cell_type": "markdown",
   "id": "6e1bb611",
   "metadata": {},
   "source": [
    "From the $B-H$ curve, we find the magnetic field intensity $H_{center}$ equal to 2100 $AT/m^2$. In that case, the AT required would be"
   ]
  },
  {
   "cell_type": "code",
   "execution_count": 5,
   "id": "817c5297",
   "metadata": {},
   "outputs": [
    {
     "name": "stdout",
     "output_type": "stream",
     "text": [
      "ATcenter = 315.00 AT\n"
     ]
    }
   ],
   "source": [
    "Hcenter = 2100 # [$AT/m^2$]\n",
    "ATcenter = Hcenter * lcenter\n",
    "print('ATcenter = {:.2f} AT'.format(ATcenter))"
   ]
  },
  {
   "cell_type": "markdown",
   "id": "ee2c1916",
   "metadata": {},
   "source": [
    "For the outer limbs, and based on the symmetry of the circuit, we can directly assume that the flux will be equal to half of the flux in the central limb.  "
   ]
  },
  {
   "cell_type": "code",
   "execution_count": 6,
   "id": "c786822d",
   "metadata": {},
   "outputs": [],
   "source": [
    "lside = 0.25 # [m] length of the central limb\n",
    "Aside = 0.0004 # [$m^2$] cross-sectional area\n",
    "phi_side = 0.0005 # [Wb] flux"
   ]
  },
  {
   "cell_type": "code",
   "execution_count": 7,
   "id": "1f5612cc",
   "metadata": {},
   "outputs": [
    {
     "name": "stdout",
     "output_type": "stream",
     "text": [
      "Bside = 1.25 Wb/m2\n"
     ]
    }
   ],
   "source": [
    "Bside = phi_side / Aside\n",
    "print('Bside = {:.2f} Wb/m2'.format(Bside))"
   ]
  },
  {
   "cell_type": "markdown",
   "id": "c5dfbdb0",
   "metadata": {},
   "source": [
    "From the $B-H$ curve, we find the magnetic field intensity $H_{side}$ equal to 600 $AT/m^2$. In that case, the AT required would be"
   ]
  },
  {
   "cell_type": "code",
   "execution_count": 8,
   "id": "145e3e04",
   "metadata": {},
   "outputs": [
    {
     "name": "stdout",
     "output_type": "stream",
     "text": [
      "ATside = 150.00 AT\n"
     ]
    }
   ],
   "source": [
    "Hside = 600 # [$AT/m^2$]\n",
    "ATside = Hside * lside\n",
    "print('ATside = {:.2f} AT'.format(ATside))"
   ]
  },
  {
   "cell_type": "markdown",
   "id": "debbbde2",
   "metadata": {},
   "source": [
    "For the air-gar, $B_g$= 1.25 $Wb/m^2$."
   ]
  },
  {
   "cell_type": "code",
   "execution_count": 9,
   "id": "7a3b9e03",
   "metadata": {},
   "outputs": [],
   "source": [
    "lg = 0.001 #[m] length of the central limb\n",
    "Bg = 1.25 # $Wb/m^2$."
   ]
  },
  {
   "cell_type": "code",
   "execution_count": 10,
   "id": "784985a4",
   "metadata": {},
   "outputs": [
    {
     "name": "stdout",
     "output_type": "stream",
     "text": [
      "ATgap = 994.72 AT\n"
     ]
    }
   ],
   "source": [
    "ATgap = Bg * lg / c.mu_0\n",
    "print('ATgap = {:.2f} AT'.format(ATgap))"
   ]
  },
  {
   "cell_type": "markdown",
   "id": "4b3e357f",
   "metadata": {},
   "source": [
    "The total Ampere-turns required are:"
   ]
  },
  {
   "cell_type": "code",
   "execution_count": 11,
   "id": "eae3822d",
   "metadata": {},
   "outputs": [
    {
     "name": "stdout",
     "output_type": "stream",
     "text": [
      "ATtotal = 1459.72 AT\n"
     ]
    }
   ],
   "source": [
    "ATtotal = ATside + ATcenter + ATgap\n",
    "print('ATtotal = {:.2f} AT'.format(ATtotal))"
   ]
  },
  {
   "cell_type": "markdown",
   "id": "877fd664",
   "metadata": {},
   "source": [
    "The current through the coil can be found as $I = \\dfrac{MMF}{N}$"
   ]
  },
  {
   "cell_type": "code",
   "execution_count": 13,
   "id": "0b98b1c4",
   "metadata": {},
   "outputs": [
    {
     "name": "stdout",
     "output_type": "stream",
     "text": [
      "I = 2.92 A\n"
     ]
    }
   ],
   "source": [
    "I = ATtotal / N;\n",
    "print('I = {:.2f} A'.format(I))"
   ]
  }
 ],
 "metadata": {
  "kernelspec": {
   "display_name": "Python 3",
   "language": "python",
   "name": "python3"
  },
  "language_info": {
   "codemirror_mode": {
    "name": "ipython",
    "version": 3
   },
   "file_extension": ".py",
   "mimetype": "text/x-python",
   "name": "python",
   "nbconvert_exporter": "python",
   "pygments_lexer": "ipython3",
   "version": "3.8.8"
  }
 },
 "nbformat": 4,
 "nbformat_minor": 5
}
