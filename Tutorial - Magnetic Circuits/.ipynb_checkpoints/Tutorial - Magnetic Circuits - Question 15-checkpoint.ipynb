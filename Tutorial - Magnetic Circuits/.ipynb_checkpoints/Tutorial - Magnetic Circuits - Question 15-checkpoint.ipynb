{
 "cells": [
  {
   "cell_type": "markdown",
   "id": "4f7c1b86",
   "metadata": {},
   "source": [
    "##### ELEC 3105\n",
    "## Tutorial - Magnetic Circuits\n",
    "## Question 15"
   ]
  },
  {
   "cell_type": "code",
   "execution_count": null,
   "id": "548472fd",
   "metadata": {},
   "outputs": [],
   "source": [
    "from IPython.display import display_html\n",
    "display_html(\"\"\"<button onclick=\"$('.input, .prompt, .output_stderr, .output_error').toggle();\n",
    "\">Click here to toggle on/off the raw code</button>\"\"\", raw=True)"
   ]
  },
  {
   "cell_type": "code",
   "execution_count": null,
   "id": "51713574",
   "metadata": {},
   "outputs": [],
   "source": [
    "%pylab inline\n",
    "%precision %.4g\n",
    "import cmath\n",
    "from scipy import constants as c   # Enables constants in the Notebook"
   ]
  },
  {
   "cell_type": "markdown",
   "id": "ab4dc453",
   "metadata": {},
   "source": [
    "Consider the magnetic circuit of a relay as shown in the first figure below. The coil has 1200 turns and the mean core length is $l_c$ = 360mm. The air gap lengths are 1.5mm each. The air gap and the core have uniform cross section of 2000mm$^2$. A flux density ($B$) of 0.8 Tesla in the air gap is required for relay to close (i.e., actuate) and turn on another circuit. The magnetic material of the core of the relay is cast steel (see curve 2 of the second figure).\n",
    "\t\n",
    "Assuming negligible fringing and leakage of flux\n",
    "\t\n",
    "(i) Find the minimum current required in the coil for the relay to actuate. \n",
    "\n",
    "(ii) Find the values of total and relative permeability of the core, just before the relay actuates. \n",
    "\n",
    "(iii) Find the reluctances of the core and total of each of the air gaps.\t\n",
    "\n",
    "(iv) Find the total reluctance of the magnetic circuit. \n",
    "\n",
    "(v)\tFind the required current in the coil after the relay closes if the $B$ field (or the magnetic flux density) in the core must remain at the same value (0.8 T). Each air gap now is 0.5 mm.\n",
    "\n",
    "(vi) With the relay closed, if the coil current stays at the same value found in (i), find the B field in the air gap.\n",
    "\n",
    "(vii)Find the inductance $L$ of the coil for the operating conditions of (i), (v) and (vi).\n"
   ]
  },
  {
   "cell_type": "code",
   "execution_count": null,
   "id": "c48f4520",
   "metadata": {},
   "outputs": [],
   "source": []
  },
  {
   "cell_type": "code",
   "execution_count": null,
   "id": "f3d87fee",
   "metadata": {},
   "outputs": [],
   "source": []
  },
  {
   "cell_type": "markdown",
   "id": "5ad0d720",
   "metadata": {},
   "source": [
    "### Answer"
   ]
  },
  {
   "cell_type": "code",
   "execution_count": 23,
   "id": "cd44a0e4",
   "metadata": {},
   "outputs": [
    {
     "data": {
      "text/plain": [
       "1.257e-06"
      ]
     },
     "execution_count": 23,
     "metadata": {},
     "output_type": "execute_result"
    }
   ],
   "source": [
    "N = 1200 # [turns] The number of turns in the coil\n",
    "lc = 0.36  #[m] The length of the core\n",
    "lg = 0.0015  #[m] The length of the air gap\n",
    "Sc = 0.002  #[m^2] The cross-sectional area of the core\n",
    "Sg = Sc #[m^2] The cross-sectional area of the airgap\n",
    "B = Bg = Bc =  0.8      #[T] The magnetic flux density\n",
    "H = Hc = 550   #[AT/m] The magnetic flux intensity\n",
    "c.mu_0 # Permeability of free space"
   ]
  },
  {
   "cell_type": "markdown",
   "id": "9940b8de",
   "metadata": {},
   "source": [
    "Based on the figure of the magnetic circuit of the relay, the mean core length of the relay is $l_c$ = 0.36 m and the length of the air gap is $l_g$ = 3 mm. The cross section is uniform and equal to $S_c$ = 0.002$m^2$. As the fringing and the flux linkage is ignored, the air gap cross-section is considered equal to the core cross-section, so $S_c$ = $S_g$. The flux density $B$ is equal to 0.8 T. "
   ]
  },
  {
   "cell_type": "markdown",
   "id": "b9c73ef5",
   "metadata": {},
   "source": [
    "(i) Find the minimum current required in the coil for the relay to actuate. "
   ]
  },
  {
   "cell_type": "markdown",
   "id": "c8cb57c4",
   "metadata": {},
   "source": [
    "The minimum current to actuate the coil of the relay is $$NI = H_cl_c + H_g l_g = H_cl_c + \\frac{B_g}{\\mu_0}l_g \\rightarrow I = \\frac{H_cl_c + \\frac{B_g}{\\mu_0}l_g}{N} $$"
   ]
  },
  {
   "cell_type": "code",
   "execution_count": 24,
   "id": "0830485f",
   "metadata": {},
   "outputs": [
    {
     "name": "stdout",
     "output_type": "stream",
     "text": [
      "I = 1.76 A\n"
     ]
    }
   ],
   "source": [
    "I = (Hc * lc + (Bg/c.mu_0)*2*lg)/N\n",
    "print('I = {:.2f} A'.format(I))"
   ]
  },
  {
   "cell_type": "markdown",
   "id": "ee9e0cfd",
   "metadata": {},
   "source": [
    "(ii) Find the values of total and relative permeability of the core, just before the relay actuates."
   ]
  },
  {
   "cell_type": "code",
   "execution_count": 25,
   "id": "a054c96b",
   "metadata": {},
   "outputs": [
    {
     "name": "stdout",
     "output_type": "stream",
     "text": [
      "mu = 0.001455 H/m\n"
     ]
    }
   ],
   "source": [
    "mu = B/H\n",
    "print('mu = {:.6f} H/m'.format(mu))"
   ]
  },
  {
   "cell_type": "code",
   "execution_count": 8,
   "id": "f35cbcab",
   "metadata": {},
   "outputs": [
    {
     "name": "stdout",
     "output_type": "stream",
     "text": [
      "mur = 1157.49\n"
     ]
    }
   ],
   "source": [
    "mur = mu / c.mu_0\n",
    "print('mur = {:.2f}'.format(mur))"
   ]
  },
  {
   "cell_type": "markdown",
   "id": "bba50053",
   "metadata": {},
   "source": [
    "(iii) Find the reluctances of the core and total of each of the air gaps. \n",
    "\n",
    " The reluctances can be calculated as: $\\mathcal{R}_c = \\frac{l}{\\mu S}$"
   ]
  },
  {
   "cell_type": "markdown",
   "id": "40465d76",
   "metadata": {},
   "source": [
    "For the core: $\\mathcal{R}_c = \\frac{l_c}{\\mu_c S_c}$"
   ]
  },
  {
   "cell_type": "code",
   "execution_count": 10,
   "id": "c3b7f9ec",
   "metadata": {},
   "outputs": [
    {
     "name": "stdout",
     "output_type": "stream",
     "text": [
      "Relc = 123750.00 AT/m2\n"
     ]
    }
   ],
   "source": [
    "Relc = lc / (mu*Sc)\n",
    "print('Relc = {:.2f} AT/m2'.format(Relc))"
   ]
  },
  {
   "cell_type": "markdown",
   "id": "fc1dbf16",
   "metadata": {},
   "source": [
    "For the air gap: $\\mathcal{R}_g = \\dfrac{2l_g}{\\mu_0 S_g}$"
   ]
  },
  {
   "cell_type": "code",
   "execution_count": 11,
   "id": "f1e77431",
   "metadata": {},
   "outputs": [
    {
     "name": "stdout",
     "output_type": "stream",
     "text": [
      "Relg = 1193662.07 AT/m2\n"
     ]
    }
   ],
   "source": [
    "Relg = 2 * lg / (c.mu_0 * Sg)\n",
    "print('Relg = {:.2f} AT/m2'.format(Relg))"
   ]
  },
  {
   "cell_type": "markdown",
   "id": "e748caf6",
   "metadata": {},
   "source": [
    "Reluctance of each air-gap is half of the total reluctance, $\\frac{R_g}{2}$"
   ]
  },
  {
   "cell_type": "code",
   "execution_count": 13,
   "id": "4f4b0744",
   "metadata": {},
   "outputs": [
    {
     "name": "stdout",
     "output_type": "stream",
     "text": [
      "Rg_gap = 596831.04 AT/m2\n"
     ]
    }
   ],
   "source": [
    "Rg_gap = Relg/2\n",
    "print('Rg_gap = {:.2f} AT/m2'.format(Rg_gap))"
   ]
  },
  {
   "cell_type": "markdown",
   "id": "951ea9d9",
   "metadata": {},
   "source": [
    "(iv) Find the total reluctance of the magnetic circuit. "
   ]
  },
  {
   "cell_type": "code",
   "execution_count": 16,
   "id": "310bf2ba",
   "metadata": {},
   "outputs": [
    {
     "name": "stdout",
     "output_type": "stream",
     "text": [
      "Reltotal = 1317412.07 AT/m2\n"
     ]
    }
   ],
   "source": [
    "Reltotal = Relg + Relc\n",
    "print('Reltotal = {:.2f} AT/m2'.format(Reltotal))"
   ]
  },
  {
   "cell_type": "markdown",
   "id": "dbe987b5",
   "metadata": {},
   "source": [
    "(v) Find the required current in the coil after the relay closes if the field $B$ (or the magnetic flux density) in the core must remain at the same value (0.8 T). Each air gap now is 0.5 mm. "
   ]
  },
  {
   "cell_type": "markdown",
   "id": "951c3f08",
   "metadata": {},
   "source": [
    "$$NI = H_c l_c + H_g l_g $$"
   ]
  },
  {
   "cell_type": "code",
   "execution_count": 17,
   "id": "d2ea2869",
   "metadata": {},
   "outputs": [
    {
     "name": "stdout",
     "output_type": "stream",
     "text": [
      "Inew = 0.70 A\n"
     ]
    }
   ],
   "source": [
    "lg2 = 0.0005\n",
    "Inew = (Hc * lc + (Bg/c.mu_0)*2*lg2)/N\n",
    "print('Inew = {:.2f} A'.format(Inew))"
   ]
  },
  {
   "cell_type": "markdown",
   "id": "750267f8",
   "metadata": {},
   "source": [
    "(vi) With the relay closed, if the coil current stays at the same value found in (a), find the B field in the air gap. "
   ]
  },
  {
   "cell_type": "markdown",
   "id": "2a03ccde",
   "metadata": {},
   "source": [
    "The current is known but $B_c$ nor $H_c$, so we need to use a load line for calculations. Starting from $NI = H_c l_c + H_g l_g $, we get\n",
    "\n",
    "\\begin{equation}\n",
    "\tNI = H_cl_c + \\frac{B_c}{\\mu_0}l_g \\rightarrow B_c = \\frac{\\mu_0}{l_g}NI-\\frac{\\mu_0 l_c}{l_g}H_c \n",
    "\\end{equation}\n",
    "\n",
    "\\begin{align*}\n",
    "\tB_c &= \\frac{4\\pi\\times10^{-7}\\times 1200\\times 1.76}{1\\times10^{-3}}-\\frac{4\\pi\\times10^{-7}\\times 360\\times10^{-3}}{1\\times10^{-3}}H_c \\\\\n",
    "\tB_c &= 2.6527-0.4522H_c \\times10^{-3}\n",
    "\\end{align*}"
   ]
  },
  {
   "cell_type": "code",
   "execution_count": null,
   "id": "df11bed4",
   "metadata": {},
   "outputs": [],
   "source": []
  },
  {
   "cell_type": "markdown",
   "id": "265bae3d",
   "metadata": {},
   "source": [
    "Also note from the above figure, for  $H_c$=0, $B_c$ = 2.6527 T. \n",
    "\n",
    "Also for $H_c$= 3000, $B_c$ = 1.2961 T\n",
    "    \n",
    "The load intersects the $B-H$ curve for (cast steel) at $B_c$ = 1.45T, $H_c$ = 2500 At/m."
   ]
  },
  {
   "cell_type": "code",
   "execution_count": 18,
   "id": "bfd6e612",
   "metadata": {},
   "outputs": [],
   "source": [
    "Bc_new = 1.45"
   ]
  },
  {
   "cell_type": "markdown",
   "id": "f135bda1",
   "metadata": {},
   "source": [
    "(vii) Find the inductance of the coil for the operating conditions of (i), (v) and (vi).\n",
    "\n",
    "$$L= \\frac{N \\Phi}{I}$$"
   ]
  },
  {
   "cell_type": "code",
   "execution_count": 19,
   "id": "b1b89eba",
   "metadata": {},
   "outputs": [
    {
     "name": "stdout",
     "output_type": "stream",
     "text": [
      "L_i = 1.09 H\n"
     ]
    }
   ],
   "source": [
    "L_i = N*B*Sc/I\n",
    "print('L_i = {:.2f} H'.format(L_i))"
   ]
  },
  {
   "cell_type": "code",
   "execution_count": 20,
   "id": "0612a1ef",
   "metadata": {},
   "outputs": [
    {
     "name": "stdout",
     "output_type": "stream",
     "text": [
      "L_ii = 2.76 H\n"
     ]
    }
   ],
   "source": [
    "L_ii = N*B*Sc/Inew\n",
    "print('L_ii = {:.2f} H'.format(L_ii))"
   ]
  },
  {
   "cell_type": "code",
   "execution_count": 22,
   "id": "bb49b6fb",
   "metadata": {},
   "outputs": [
    {
     "name": "stdout",
     "output_type": "stream",
     "text": [
      "L_iii = 1.98 H\n"
     ]
    }
   ],
   "source": [
    "L_iii = N*Bc_new*Sc/I\n",
    "print('L_iii = {:.2f} H'.format(L_iii))"
   ]
  }
 ],
 "metadata": {
  "kernelspec": {
   "display_name": "Python 3",
   "language": "python",
   "name": "python3"
  },
  "language_info": {
   "codemirror_mode": {
    "name": "ipython",
    "version": 3
   },
   "file_extension": ".py",
   "mimetype": "text/x-python",
   "name": "python",
   "nbconvert_exporter": "python",
   "pygments_lexer": "ipython3",
   "version": "3.8.8"
  }
 },
 "nbformat": 4,
 "nbformat_minor": 5
}
