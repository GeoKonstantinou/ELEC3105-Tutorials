{
 "cells": [
  {
   "cell_type": "markdown",
   "id": "0c471ab6",
   "metadata": {},
   "source": [
    "# ELEC 3105\n",
    "## Tutorial - Magnetic Circuits\n",
    "## Question 10"
   ]
  },
  {
   "cell_type": "code",
   "execution_count": 1,
   "id": "d7558b67",
   "metadata": {},
   "outputs": [
    {
     "data": {
      "text/html": [
       "<button onclick=\"$('.input, .prompt, .output_stderr, .output_error').toggle();\n",
       "\">Click here to toggle on/off the raw code</button>"
      ]
     },
     "metadata": {},
     "output_type": "display_data"
    }
   ],
   "source": [
    "from IPython.display import display_html\n",
    "display_html(\"\"\"<button onclick=\"$('.input, .prompt, .output_stderr, .output_error').toggle();\n",
    "\">Click here to toggle on/off the raw code</button>\"\"\", raw=True)"
   ]
  },
  {
   "cell_type": "code",
   "execution_count": 2,
   "id": "1642b5e7",
   "metadata": {},
   "outputs": [
    {
     "name": "stdout",
     "output_type": "stream",
     "text": [
      "Populating the interactive namespace from numpy and matplotlib\n"
     ]
    }
   ],
   "source": [
    "%pylab inline\n",
    "%precision %.4g\n",
    "import cmath\n",
    "from scipy import constants as c   # Enables constants in the Notebook"
   ]
  },
  {
   "cell_type": "markdown",
   "id": "d4a40a44",
   "metadata": {},
   "source": [
    "An iron ring has a mean circumference of 80cm and a cross-sectional area of $5cm^2$. The coil has 150 turns. Calculate the current in the coil for a flux of 0.64mWb and the relative permeability of the magnetic material.\n",
    "\n",
    "    B (Wb/m^2): 0.9   1.1   1.2   1.3\n",
    "    H (A/m):    260   450   600   820"
   ]
  },
  {
   "cell_type": "markdown",
   "id": "273d83b7",
   "metadata": {},
   "source": [
    "### Answer"
   ]
  },
  {
   "cell_type": "markdown",
   "id": "32e00418",
   "metadata": {},
   "source": [
    "Firstly, we can look at the magnetisation $B-H$ curve provided for the material. "
   ]
  },
  {
   "cell_type": "code",
   "execution_count": 3,
   "id": "2ea34353",
   "metadata": {},
   "outputs": [
    {
     "data": {
      "image/png": "[encoded data removed]",
      "text/plain": [
       "<Figure size 432x288 with 1 Axes>"
      ]
     },
     "metadata": {
      "needs_background": "light"
     },
     "output_type": "display_data"
    }
   ],
   "source": [
    "B = [0.9,   1.1,   1.2,   1.3]\n",
    "H = [260,   450,   600,  820]\n",
    "plt.plot(H, B)\n",
    "plt.show()"
   ]
  },
  {
   "cell_type": "code",
   "execution_count": 4,
   "id": "fbb3baf9",
   "metadata": {},
   "outputs": [
    {
     "data": {
      "text/plain": [
       "1.257e-06"
      ]
     },
     "execution_count": 4,
     "metadata": {},
     "output_type": "execute_result"
    }
   ],
   "source": [
    "N = 150 #[turns] The number of turns in the coil\n",
    "phi = 0.00064 #[Wb] flux in the ring\n",
    "A = 0.0005 # [m^2] cross-sectional area\n",
    "l = 0.8 # [m] length of the core\n",
    "c.mu_0 # Permeability of free space"
   ]
  },
  {
   "cell_type": "markdown",
   "id": "72f49fdf",
   "metadata": {},
   "source": [
    "We can calculate the flux density in the ring as"
   ]
  },
  {
   "cell_type": "code",
   "execution_count": 5,
   "id": "80d33ec7",
   "metadata": {},
   "outputs": [
    {
     "name": "stdout",
     "output_type": "stream",
     "text": [
      "Bring = 1.28 Wb/m2\n"
     ]
    }
   ],
   "source": [
    "Bring = phi / A\n",
    "print('Bring = {:.2f} Wb/m2'.format(Bring))"
   ]
  },
  {
   "cell_type": "markdown",
   "id": "d1c44a1e",
   "metadata": {},
   "source": [
    "From the $B-H$ curve plotted, and assuming that the curve is linear between 1.2 and 1.3: "
   ]
  },
  {
   "cell_type": "code",
   "execution_count": 6,
   "id": "b6cff108",
   "metadata": {},
   "outputs": [
    {
     "name": "stdout",
     "output_type": "stream",
     "text": [
      "Hring = 776.00 AT/m\n"
     ]
    }
   ],
   "source": [
    "Hring = 600 + (820-600)/(1.3-1.2) * (1.28-1.2)\n",
    "print('Hring = {:.2f} AT/m'.format(Hring))"
   ]
  },
  {
   "cell_type": "markdown",
   "id": "c7895c7b",
   "metadata": {},
   "source": [
    "The magnetomotive force of the coil is: $MMF = H\\cdot l = N\\cdot I$"
   ]
  },
  {
   "cell_type": "code",
   "execution_count": 7,
   "id": "06420306",
   "metadata": {},
   "outputs": [
    {
     "name": "stdout",
     "output_type": "stream",
     "text": [
      "MMF = 620.80 AT\n"
     ]
    }
   ],
   "source": [
    "MMF = Hring * l\n",
    "print('MMF = {:.2f} AT'.format(MMF))"
   ]
  },
  {
   "cell_type": "code",
   "execution_count": 8,
   "id": "a42a426a",
   "metadata": {},
   "outputs": [
    {
     "name": "stdout",
     "output_type": "stream",
     "text": [
      "I = 4.14 A\n"
     ]
    }
   ],
   "source": [
    "I = MMF / N \n",
    "print('I = {:.2f} A'.format(I))"
   ]
  },
  {
   "cell_type": "markdown",
   "id": "a6bb53c8",
   "metadata": {},
   "source": [
    "From the B-H curve we can calculate the relative permeativity of the core as $\\mu_r = \\dfrac{B}{\\mu_0 H}$"
   ]
  },
  {
   "cell_type": "code",
   "execution_count": 9,
   "id": "03d57f7e",
   "metadata": {},
   "outputs": [
    {
     "name": "stdout",
     "output_type": "stream",
     "text": [
      "μr = 1312.62 AT/m\n"
     ]
    }
   ],
   "source": [
    "mu_r = Bring / (c.mu_0 * Hring)\n",
    "print('μr = {:.2f} AT/m'.format(mu_r))"
   ]
  }
 ],
 "metadata": {
  "kernelspec": {
   "display_name": "Python 3",
   "language": "python",
   "name": "python3"
  },
  "language_info": {
   "codemirror_mode": {
    "name": "ipython",
    "version": 3
   },
   "file_extension": ".py",
   "mimetype": "text/x-python",
   "name": "python",
   "nbconvert_exporter": "python",
   "pygments_lexer": "ipython3",
   "version": "3.8.8"
  }
 },
 "nbformat": 4,
 "nbformat_minor": 5
}
