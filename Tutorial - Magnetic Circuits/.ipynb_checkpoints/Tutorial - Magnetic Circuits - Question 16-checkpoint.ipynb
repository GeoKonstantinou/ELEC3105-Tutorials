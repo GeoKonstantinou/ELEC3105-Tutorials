{
 "cells": [
  {
   "cell_type": "markdown",
   "id": "2ec228d0",
   "metadata": {},
   "source": [
    "## ELEC 3105\n",
    "## Tutorial - Magnetic Circuits\n",
    "## Question 15"
   ]
  },
  {
   "cell_type": "code",
   "execution_count": 1,
   "id": "cbbac6d2",
   "metadata": {},
   "outputs": [
    {
     "data": {
      "text/html": [
       "<button onclick=\"$('.input, .prompt, .output_stderr, .output_error').toggle();\n",
       "\">Click here to toggle on/off the raw code</button>"
      ]
     },
     "metadata": {},
     "output_type": "display_data"
    }
   ],
   "source": [
    "from IPython.display import display_html\n",
    "display_html(\"\"\"<button onclick=\"$('.input, .prompt, .output_stderr, .output_error').toggle();\n",
    "\">Click here to toggle on/off the raw code</button>\"\"\", raw=True)"
   ]
  },
  {
   "cell_type": "code",
   "execution_count": 2,
   "id": "2b267355",
   "metadata": {},
   "outputs": [
    {
     "name": "stdout",
     "output_type": "stream",
     "text": [
      "Populating the interactive namespace from numpy and matplotlib\n"
     ]
    }
   ],
   "source": [
    "%pylab inline\n",
    "%precision %.4g\n",
    "import cmath\n",
    "from scipy import constants as c   # Enables constants in the Notebook"
   ]
  },
  {
   "cell_type": "markdown",
   "id": "c8b1c1c8",
   "metadata": {},
   "source": [
    "In the magnetic circuit of the following figure, the two vertical sides are thicker than the horizontal sides. The depth of the core is 10 cm. The relative permeability of the core, $\\mu_r$ = 2000.  The number of turns on the core is $N$ = 300. The coil current is $I$ = 1 A.\n",
    "\n",
    "* Find the flux in the core\n",
    "* Find the B fields in the vertical and horizontal limbs of the core. "
   ]
  },
  {
   "cell_type": "code",
   "execution_count": 3,
   "id": "c54d3799",
   "metadata": {},
   "outputs": [
    {
     "data": {
      "image/png": "[encoded data removed]",
      "text/plain": [
       "<IPython.core.display.Image object>"
      ]
     },
     "execution_count": 3,
     "metadata": {
      "image/png": {
       "height": 500,
       "width": 500
      }
     },
     "output_type": "execute_result"
    }
   ],
   "source": [
    "from IPython.display import Image\n",
    "Image(filename=\"Figures\\TMC_Q16_Fig1.png\",width=500,height=500)"
   ]
  },
  {
   "cell_type": "markdown",
   "id": "a5271588",
   "metadata": {},
   "source": [
    "A thin air gap 2 mm wide is cut into the top horizontal limb as shown in the figure below}. However, its cross section area (the pole face area) is increased by increasing the vertical side of the air gap to 20 cm on either side. The depth of the air gap and the core remains the same (10 cm).\n",
    "\n",
    "* Neglecting any fringing and any change in the reluctance of the horizontal limb due to air gap or the widening of the iron for the poles, find the $B$ in the air gap. \n",
    "* In order to have in the air gap the same $B$ field as in the top horizontal limb as in (2), suggest what change(s) can be made to the new magnetic circuit."
   ]
  },
  {
   "cell_type": "code",
   "execution_count": 14,
   "id": "7ecc4119",
   "metadata": {},
   "outputs": [
    {
     "data": {
      "image/png": "[encoded data removed]",
      "text/plain": [
       "<IPython.core.display.Image object>"
      ]
     },
     "execution_count": 14,
     "metadata": {
      "image/png": {
       "height": 400,
       "width": 400
      }
     },
     "output_type": "execute_result"
    }
   ],
   "source": [
    "from IPython.display import Image\n",
    "Image(filename=\"Figures\\TMC_Q16_Fig2.png\",width=400,height=400)"
   ]
  },
  {
   "cell_type": "markdown",
   "id": "4fe8dd83",
   "metadata": {},
   "source": [
    "### Answer"
   ]
  },
  {
   "cell_type": "code",
   "execution_count": 5,
   "id": "4525f8e0",
   "metadata": {},
   "outputs": [],
   "source": [
    "d = 0.1 # [m] depth of the core\n",
    "N = 300 # [turns] Number of turns in the coil\n",
    "I = 1 # [A] Current in the coil\n",
    "l1 = 0.15 #[m]\n",
    "l2 = 0.25 #[m]\n",
    "l3 = 0.15 #[m]\n",
    "h1 = 0.1 #[m]\n",
    "h2 = 0.15 #[m]\n",
    "h3 = 0.1 #[m]\n",
    "mu_r = 2000\n",
    "lg = 0.002 #[m] Airgap length\n",
    "wg = 0.2 #[m] Side of the air-gap after the cut\n",
    "dg = 0.1 #[m] Depth of the air-gap after the cut"
   ]
  },
  {
   "cell_type": "markdown",
   "id": "9e5ccfc1",
   "metadata": {},
   "source": [
    "Firstly, we need to calculate the average lengths for the core. "
   ]
  },
  {
   "cell_type": "code",
   "execution_count": 6,
   "id": "e0375672",
   "metadata": {},
   "outputs": [
    {
     "name": "stdout",
     "output_type": "stream",
     "text": [
      "lc = 0.40 m\n",
      "hc = 0.25 m\n"
     ]
    }
   ],
   "source": [
    "lc = l1/2 + l2 + l3/2\n",
    "hc = h1/2 + h2 + h3/2\n",
    "print('lc = {:.2f} m'.format(lc))\n",
    "print('hc = {:.2f} m'.format(hc))"
   ]
  },
  {
   "cell_type": "markdown",
   "id": "ab7e61d4",
   "metadata": {},
   "source": [
    "We can then calculate the flux as $\\phi = \\dfrac{NI}{\\mathcal{R}_{total}}$ so we need to calculate the reluctances of the two (four) sections."
   ]
  },
  {
   "cell_type": "code",
   "execution_count": 7,
   "id": "a16a935c",
   "metadata": {},
   "outputs": [
    {
     "name": "stdout",
     "output_type": "stream",
     "text": [
      "Rh = 6631.46 AT/Wb\n",
      "Rl = 15915.49 AT/Wb\n"
     ]
    }
   ],
   "source": [
    "Rh = hc / (mu_r * c.mu_0 * d * l1)\n",
    "Rl = lc / (mu_r * c.mu_0 * d * h1)\n",
    "print('Rh = {:.2f} AT/Wb'.format(Rh))\n",
    "print('Rl = {:.2f} AT/Wb'.format(Rl))"
   ]
  },
  {
   "cell_type": "markdown",
   "id": "56e7b245",
   "metadata": {},
   "source": [
    "The total reluctance is $\\mathcal{R}_{total} = 2 \\cdot \\mathcal{R}_{h} + 2 \\cdot \\mathcal{R}_{l}$. The total flux is then:"
   ]
  },
  {
   "cell_type": "code",
   "execution_count": 8,
   "id": "5fd63084",
   "metadata": {},
   "outputs": [
    {
     "name": "stdout",
     "output_type": "stream",
     "text": [
      "flux = 0.006653 Wb\n"
     ]
    }
   ],
   "source": [
    "flux = N * I / (2*Rh + 2* Rl)\n",
    "print('flux = {:.6f} Wb'.format(flux))"
   ]
  },
  {
   "cell_type": "markdown",
   "id": "40d23840",
   "metadata": {},
   "source": [
    "The magnetic field density in the horizontal and vertical sides of the core are $B_{vert} = \\dfrac{\\phi}{A_v}$ and $B_{hor} = \\dfrac{\\phi}{A_h}$"
   ]
  },
  {
   "cell_type": "code",
   "execution_count": 9,
   "id": "c1effacc",
   "metadata": {},
   "outputs": [
    {
     "name": "stdout",
     "output_type": "stream",
     "text": [
      "B_h = 0.4435 T\n",
      "B_l = 0.6653 T\n"
     ]
    }
   ],
   "source": [
    "B_h = flux / (d * l1)\n",
    "B_l = flux / (d * h1)\n",
    "print('B_h = {:.4f} T'.format(B_h))\n",
    "print('B_l = {:.4f} T'.format(B_l))"
   ]
  },
  {
   "cell_type": "markdown",
   "id": "63f9e3c3",
   "metadata": {},
   "source": [
    "The inclusion of the airgap changes the reluctance of the magnetic circuit. The reluctance of the airgap is then:"
   ]
  },
  {
   "cell_type": "code",
   "execution_count": 10,
   "id": "cea3ced3",
   "metadata": {},
   "outputs": [
    {
     "name": "stdout",
     "output_type": "stream",
     "text": [
      "Rg = 79577 AT/Wb\n"
     ]
    }
   ],
   "source": [
    "Rg = lg / (c.mu_0 * dg * wg )\n",
    "print('Rg = {:.0f} AT/Wb'.format(Rg))"
   ]
  },
  {
   "cell_type": "markdown",
   "id": "f68ce52b",
   "metadata": {},
   "source": [
    "The new total reluctance of the core with the inclusion of the air-gap is:"
   ]
  },
  {
   "cell_type": "code",
   "execution_count": 11,
   "id": "69242b09",
   "metadata": {},
   "outputs": [
    {
     "name": "stdout",
     "output_type": "stream",
     "text": [
      "Rnew = 124671.37 AT/Wb\n"
     ]
    }
   ],
   "source": [
    "Rnew = 2*Rh + 2* Rl + Rg\n",
    "print('Rnew = {:.2f} AT/Wb'.format(Rnew))"
   ]
  },
  {
   "cell_type": "markdown",
   "id": "218a17d0",
   "metadata": {},
   "source": [
    "The new flux is calculated as $\\phi = \\dfrac{NI}{\\mathcal{R}_{new}}$"
   ]
  },
  {
   "cell_type": "code",
   "execution_count": 12,
   "id": "820fafc7",
   "metadata": {},
   "outputs": [
    {
     "name": "stdout",
     "output_type": "stream",
     "text": [
      "flux_new = 0.002406 Wb\n"
     ]
    }
   ],
   "source": [
    "flux_new = N * I / Rnew\n",
    "print('flux_new = {:.6f} Wb'.format(flux_new))"
   ]
  },
  {
   "cell_type": "markdown",
   "id": "c6f481e0",
   "metadata": {},
   "source": [
    "The magnetic flux density of the air-gap is $B_g = \\dfrac{\\phi}{A}$"
   ]
  },
  {
   "cell_type": "code",
   "execution_count": 13,
   "id": "9a511c7d",
   "metadata": {},
   "outputs": [
    {
     "name": "stdout",
     "output_type": "stream",
     "text": [
      "Bg = 0.1203 T\n"
     ]
    }
   ],
   "source": [
    "B_g = flux_new / (wg * dg)\n",
    "print('Bg = {:.4f} T'.format(B_g))"
   ]
  },
  {
   "cell_type": "markdown",
   "id": "401c8100",
   "metadata": {},
   "source": [
    "In order to increase the flux density, we need to increase the MMF created by the coil. This can be achieved in two ways. \n",
    "* Suggestion 1: Increase the coil current to $\\dfrac{0.665}{0.12}\\times 1=5.54$~A\n",
    "* Suggestion 2: Increase the number of turns to $\\dfrac{0.665}{0.12}\\times 300 = 1663$~turns."
   ]
  }
 ],
 "metadata": {
  "kernelspec": {
   "display_name": "Python 3",
   "language": "python",
   "name": "python3"
  },
  "language_info": {
   "codemirror_mode": {
    "name": "ipython",
    "version": 3
   },
   "file_extension": ".py",
   "mimetype": "text/x-python",
   "name": "python",
   "nbconvert_exporter": "python",
   "pygments_lexer": "ipython3",
   "version": "3.8.8"
  }
 },
 "nbformat": 4,
 "nbformat_minor": 5
}
