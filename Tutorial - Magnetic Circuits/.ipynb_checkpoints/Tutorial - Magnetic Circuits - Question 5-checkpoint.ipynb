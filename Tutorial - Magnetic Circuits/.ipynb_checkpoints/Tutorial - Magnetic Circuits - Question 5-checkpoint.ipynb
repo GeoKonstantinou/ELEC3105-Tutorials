{
 "cells": [
  {
   "cell_type": "markdown",
   "id": "34f046e2",
   "metadata": {},
   "source": [
    "# ELEC 3105\n",
    "## Tutorial - Magnetic Circuits\n",
    "## Question 5"
   ]
  },
  {
   "cell_type": "markdown",
   "id": "790d51c7",
   "metadata": {},
   "source": [
    "A ring, made of steel, has a rectangular cross-sectional area. The outer diameter of the ring is 25cm while the inner diameter is 20cm. The thickness of the ring is 2mm. The ring has a winding of 500 turns and when carrying a current of 3A, produces a flux density of 1.2T in the air gap produced when the ring is cut to have an air-gap of 1mm. \n",
    "\n",
    "Find: \n",
    "\n",
    "a) the magnetic filed intensite of the steel ring and the air-gap, \n",
    "\n",
    "b) the relative permeability of the magnetic material, \n",
    "\n",
    "c) the total reluctance of the magnetic circuit, \n",
    "\n",
    "d) the inductance of the coil, and \n",
    "\n",
    "e) the EMF induced in the coil when the coil carries a current of $i_{ac} = 5 sin 314t$. "
   ]
  },
  {
   "cell_type": "markdown",
   "id": "f544ebce",
   "metadata": {},
   "source": [
    "A figure is missing here!"
   ]
  },
  {
   "cell_type": "markdown",
   "id": "f04aca1b",
   "metadata": {},
   "source": [
    "### Answer"
   ]
  },
  {
   "cell_type": "code",
   "execution_count": 11,
   "id": "c92daeb4",
   "metadata": {},
   "outputs": [
    {
     "name": "stdout",
     "output_type": "stream",
     "text": [
      "Populating the interactive namespace from numpy and matplotlib\n"
     ]
    }
   ],
   "source": [
    "%pylab inline\n",
    "%precision %.4g\n",
    "from scipy import constants as c   # Enables constants in the Notebook"
   ]
  },
  {
   "cell_type": "code",
   "execution_count": 12,
   "id": "736c7de4",
   "metadata": {},
   "outputs": [
    {
     "data": {
      "text/plain": [
       "1.257e-06"
      ]
     },
     "execution_count": 12,
     "metadata": {},
     "output_type": "execute_result"
    }
   ],
   "source": [
    "N = 500 #[turns] The number of turns in the coil\n",
    "I = 3 # [A] Current on the coil \n",
    "\n",
    "rin = 0.1 # [m] inner radius\n",
    "rout = 0.125 # [m] outer radius\n",
    "d = 0.002 # [m] depth of the ring\n",
    "lg = 0.001 # [m] length of the air-gap in the ring\n",
    "\n",
    "B = 1.2 # [T] Flux Density in the air-gap and the ring\n",
    "\n",
    "c.mu_0 # Permeability of free space"
   ]
  },
  {
   "cell_type": "code",
   "execution_count": 13,
   "id": "f01340d3",
   "metadata": {},
   "outputs": [
    {
     "name": "stdout",
     "output_type": "stream",
     "text": [
      "MMF = 1500.00 AT\n"
     ]
    }
   ],
   "source": [
    "MMF = N * I \n",
    "print('MMF = {:.2f} AT'.format(MMF))"
   ]
  },
  {
   "cell_type": "markdown",
   "id": "5466e521",
   "metadata": {},
   "source": [
    "From Ampere's law $NI = \\sum H l$"
   ]
  },
  {
   "cell_type": "code",
   "execution_count": 14,
   "id": "e2418a42",
   "metadata": {},
   "outputs": [
    {
     "name": "stdout",
     "output_type": "stream",
     "text": [
      "Hg = 954929.66 AT/m\n"
     ]
    }
   ],
   "source": [
    "Hg = B/c.mu_0\n",
    "print('Hg = {:.2f} AT/m'.format(Hg))"
   ]
  },
  {
   "cell_type": "code",
   "execution_count": 15,
   "id": "21bc5556",
   "metadata": {},
   "outputs": [
    {
     "name": "stdout",
     "output_type": "stream",
     "text": [
      "lc = 0.707 m\n"
     ]
    }
   ],
   "source": [
    "lc = 2 * pi * (rin + rout)/2\n",
    "print('lc = {:.3f} m'.format(lc))"
   ]
  },
  {
   "cell_type": "code",
   "execution_count": 16,
   "id": "a979abfb",
   "metadata": {},
   "outputs": [
    {
     "name": "stdout",
     "output_type": "stream",
     "text": [
      "Hc = 771.12 AT/m\n"
     ]
    }
   ],
   "source": [
    "Hc = (MMF - Hg * lg)/lc\n",
    "print('Hc = {:.2f} AT/m'.format(Hc))"
   ]
  },
  {
   "cell_type": "markdown",
   "id": "e2c2f9f2",
   "metadata": {},
   "source": [
    "The field intensity can also be calculated as $H_c = \\dfrac{B_c}{\\mu_r \\mu_0}$"
   ]
  },
  {
   "cell_type": "code",
   "execution_count": 17,
   "id": "c1a7441d",
   "metadata": {},
   "outputs": [
    {
     "name": "stdout",
     "output_type": "stream",
     "text": [
      "mur = 1238.37 \n"
     ]
    }
   ],
   "source": [
    "mur = B/ (Hc * c.mu_0)\n",
    "print('mur = {:.2f} '.format(mur))"
   ]
  },
  {
   "cell_type": "code",
   "execution_count": null,
   "id": "9dd644e3",
   "metadata": {},
   "outputs": [],
   "source": []
  },
  {
   "cell_type": "code",
   "execution_count": null,
   "id": "343da04f",
   "metadata": {},
   "outputs": [],
   "source": []
  },
  {
   "cell_type": "code",
   "execution_count": null,
   "id": "5466f6be",
   "metadata": {},
   "outputs": [],
   "source": []
  },
  {
   "cell_type": "code",
   "execution_count": null,
   "id": "d5d9e201",
   "metadata": {},
   "outputs": [],
   "source": []
  }
 ],
 "metadata": {
  "kernelspec": {
   "display_name": "Python 3",
   "language": "python",
   "name": "python3"
  },
  "language_info": {
   "codemirror_mode": {
    "name": "ipython",
    "version": 3
   },
   "file_extension": ".py",
   "mimetype": "text/x-python",
   "name": "python",
   "nbconvert_exporter": "python",
   "pygments_lexer": "ipython3",
   "version": "3.8.8"
  }
 },
 "nbformat": 4,
 "nbformat_minor": 5
}
