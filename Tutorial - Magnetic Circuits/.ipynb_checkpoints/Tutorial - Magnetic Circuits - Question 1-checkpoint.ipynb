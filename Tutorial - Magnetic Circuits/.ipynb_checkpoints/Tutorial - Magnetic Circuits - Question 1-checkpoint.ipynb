{
 "cells": [
  {
   "cell_type": "markdown",
   "id": "cff0b62b",
   "metadata": {},
   "source": [
    "# ELEC 3105\n",
    "## Tutorial - Magnetic Circuits\n",
    "## Question 1"
   ]
  },
  {
   "cell_type": "code",
   "execution_count": 1,
   "id": "be18cb4b",
   "metadata": {},
   "outputs": [
    {
     "data": {
      "text/html": [
       "<button onclick=\"$('.input, .prompt, .output_stderr, .output_error').toggle();\n",
       "\">Click here to toggle on/off the raw code</button>"
      ]
     },
     "metadata": {},
     "output_type": "display_data"
    }
   ],
   "source": [
    "from IPython.display import display_html\n",
    "display_html(\"\"\"<button onclick=\"$('.input, .prompt, .output_stderr, .output_error').toggle();\n",
    "\">Click here to toggle on/off the raw code</button>\"\"\", raw=True)"
   ]
  },
  {
   "cell_type": "code",
   "execution_count": 2,
   "id": "8a1c5d9f",
   "metadata": {},
   "outputs": [
    {
     "name": "stdout",
     "output_type": "stream",
     "text": [
      "Populating the interactive namespace from numpy and matplotlib\n"
     ]
    }
   ],
   "source": [
    "%pylab inline\n",
    "%precision %.4g\n",
    "import cmath\n",
    "from scipy import constants as c   # Enables constants in the Notebook"
   ]
  },
  {
   "cell_type": "markdown",
   "id": "f06ab538",
   "metadata": {},
   "source": [
    "A coil of 600 turns and resistance of 20 $\\Omega$ is wound uniformly over a steel ring of 30 cm mean circumference and 9 cm$^2$ cross-sectional area. It is connected to a supply of 20 V (dc). If the relative permeability $\\mu_r$ of the ring is 1600, find:\n",
    "\n",
    "(a) the reluctance $\\mathcal{R}$,\n",
    "\n",
    "(b) the magnetic field intensity $H$,\n",
    "\n",
    "(c) the MMF, and \n",
    "\n",
    "(d) the magnetic flux $\\phi$."
   ]
  },
  {
   "cell_type": "markdown",
   "id": "6aa04d0b",
   "metadata": {},
   "source": [
    "### Answer"
   ]
  },
  {
   "cell_type": "code",
   "execution_count": 3,
   "id": "eb185b7a",
   "metadata": {},
   "outputs": [
    {
     "data": {
      "text/plain": [
       "1.257e-06"
      ]
     },
     "execution_count": 3,
     "metadata": {},
     "output_type": "execute_result"
    }
   ],
   "source": [
    "N = 600 #[turns] The number of turns in the coil \n",
    "R = 20 # [Ohms] The resistance of the coil\n",
    "Vdc = 20 # [Volts] The voltage applied to the coil\n",
    "l = 0.3 # [m] !! Conversion to SI units\n",
    "A = 0.0009 #[$m^2$] !! Conversion to SI units\n",
    "mu_r = 1600 # relative permeability\n",
    "c.mu_0 # Permeability of free space\n"
   ]
  },
  {
   "cell_type": "markdown",
   "id": "6764e1ac",
   "metadata": {},
   "source": [
    "(a) The reluctance of the ring can be calculated from the dimensions and its magnetic material properties as $$\\mathcal{R} = \\frac{l}{\\mu_r \\mu_0 A}$$"
   ]
  },
  {
   "cell_type": "code",
   "execution_count": 4,
   "id": "d068cd1b",
   "metadata": {},
   "outputs": [
    {
     "name": "stdout",
     "output_type": "stream",
     "text": [
      "Rel = 165786.40 AT/Wb\n"
     ]
    }
   ],
   "source": [
    "Rel = l / (mu_r * c.mu_0 * A)\n",
    "print('Rel = {:.2f} AT/Wb'.format(Rel))"
   ]
  },
  {
   "cell_type": "markdown",
   "id": "16cfb111",
   "metadata": {},
   "source": [
    "(b) The magnetic field intensity can be calculated from Ampere's law $H \\cdot l = N\\cdot I$. \n",
    "\n",
    "Firstly we need to calculate the current in the coil. As the voltage is dc, the current can be simply calculated from Ohm's law $I = \\frac{V}{R}$"
   ]
  },
  {
   "cell_type": "code",
   "execution_count": 5,
   "id": "29ec7766",
   "metadata": {},
   "outputs": [
    {
     "name": "stdout",
     "output_type": "stream",
     "text": [
      "I = 1.00 A\n"
     ]
    }
   ],
   "source": [
    "I = Vdc/R \n",
    "print('I = {:.2f} A'.format(I))"
   ]
  },
  {
   "cell_type": "markdown",
   "id": "fbedac54",
   "metadata": {},
   "source": [
    "Then, magnetic field intensity will be equal to $H = \\dfrac{N\\cdot I}{l}$"
   ]
  },
  {
   "cell_type": "code",
   "execution_count": 6,
   "id": "9833fb09",
   "metadata": {},
   "outputs": [
    {
     "name": "stdout",
     "output_type": "stream",
     "text": [
      "H = 2000.00 AT\n"
     ]
    }
   ],
   "source": [
    "H = N*I/l\n",
    "print('H = {:.2f} AT'.format(H))"
   ]
  },
  {
   "cell_type": "markdown",
   "id": "3d4dd018",
   "metadata": {},
   "source": [
    "(c) The MMF is simply calculated from the number of turns and the current as $NI$."
   ]
  },
  {
   "cell_type": "code",
   "execution_count": 7,
   "id": "54e00273",
   "metadata": {},
   "outputs": [
    {
     "name": "stdout",
     "output_type": "stream",
     "text": [
      "MMF = 600.00 AT\n"
     ]
    }
   ],
   "source": [
    "MMF = N*I\n",
    "print('MMF = {:.2f} AT'.format(MMF))"
   ]
  },
  {
   "cell_type": "markdown",
   "id": "1461a23e",
   "metadata": {},
   "source": [
    "(d) We can calculate the magnetic flux from the magnetic circuit as $\\phi = \\frac{MMF}{\\mathcal{R}}$."
   ]
  },
  {
   "cell_type": "code",
   "execution_count": 8,
   "id": "b4e2e00d",
   "metadata": {
    "scrolled": true
   },
   "outputs": [
    {
     "name": "stdout",
     "output_type": "stream",
     "text": [
      "ϕ is = 3.619115 mWb\n"
     ]
    }
   ],
   "source": [
    "phi = MMF/Rel\n",
    "print('ϕ is = {:.4f} mWb'.format(phi*1000))"
   ]
  }
 ],
 "metadata": {
  "kernelspec": {
   "display_name": "Python 3",
   "language": "python",
   "name": "python3"
  },
  "language_info": {
   "codemirror_mode": {
    "name": "ipython",
    "version": 3
   },
   "file_extension": ".py",
   "mimetype": "text/x-python",
   "name": "python",
   "nbconvert_exporter": "python",
   "pygments_lexer": "ipython3",
   "version": "3.8.8"
  }
 },
 "nbformat": 4,
 "nbformat_minor": 5
}
