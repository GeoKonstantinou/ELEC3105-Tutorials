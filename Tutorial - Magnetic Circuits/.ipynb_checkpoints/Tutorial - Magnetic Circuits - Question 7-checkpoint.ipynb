{
 "cells": [
  {
   "cell_type": "markdown",
   "id": "41377888",
   "metadata": {},
   "source": [
    "# ELEC 3105\n",
    "## Tutorial - Magnetic Circuits\n",
    "## Question 7"
   ]
  },
  {
   "cell_type": "code",
   "execution_count": 2,
   "id": "9ee4d29c",
   "metadata": {},
   "outputs": [
    {
     "data": {
      "text/html": [
       "<button onclick=\"$('.input, .prompt, .output_stderr, .output_error').toggle();\n",
       "\">Click here to toggle on/off the raw code</button>"
      ]
     },
     "metadata": {},
     "output_type": "display_data"
    }
   ],
   "source": [
    "from IPython.display import display_html\n",
    "display_html(\"\"\"<button onclick=\"$('.input, .prompt, .output_stderr, .output_error').toggle();\n",
    "\">Click here to toggle on/off the raw code</button>\"\"\", raw=True)"
   ]
  },
  {
   "cell_type": "code",
   "execution_count": 3,
   "id": "f1529283",
   "metadata": {},
   "outputs": [
    {
     "name": "stdout",
     "output_type": "stream",
     "text": [
      "Populating the interactive namespace from numpy and matplotlib\n"
     ]
    }
   ],
   "source": [
    "%pylab inline\n",
    "%precision %.4g\n",
    "import cmath\n",
    "from scipy import constants as c   # Enables constants in the Notebook"
   ]
  },
  {
   "cell_type": "markdown",
   "id": "83fae056",
   "metadata": {},
   "source": [
    "A two-legged magnetic core with an air-gap is shown in the following figure. "
   ]
  },
  {
   "cell_type": "code",
   "execution_count": 4,
   "id": "3c83bfcb",
   "metadata": {},
   "outputs": [
    {
     "ename": "FileNotFoundError",
     "evalue": "[Errno 2] No such file or directory: 'Figures\\\\TMC_Q7_Fig1.jpg'",
     "output_type": "error",
     "traceback": [
      "\u001b[1;31m---------------------------------------------------------------------------\u001b[0m",
      "\u001b[1;31mFileNotFoundError\u001b[0m                         Traceback (most recent call last)",
      "\u001b[1;32m<ipython-input-4-216fe62ca4ef>\u001b[0m in \u001b[0;36m<module>\u001b[1;34m\u001b[0m\n\u001b[0;32m      1\u001b[0m \u001b[1;32mfrom\u001b[0m \u001b[0mIPython\u001b[0m\u001b[1;33m.\u001b[0m\u001b[0mdisplay\u001b[0m \u001b[1;32mimport\u001b[0m \u001b[0mImage\u001b[0m\u001b[1;33m\u001b[0m\u001b[1;33m\u001b[0m\u001b[0m\n\u001b[1;32m----> 2\u001b[1;33m \u001b[0mImage\u001b[0m\u001b[1;33m(\u001b[0m\u001b[0mfilename\u001b[0m\u001b[1;33m=\u001b[0m\u001b[1;34m\"Figures\\TMC_Q7_Fig1.jpg\"\u001b[0m\u001b[1;33m,\u001b[0m\u001b[0mwidth\u001b[0m\u001b[1;33m=\u001b[0m\u001b[1;36m400\u001b[0m\u001b[1;33m,\u001b[0m\u001b[0mheight\u001b[0m\u001b[1;33m=\u001b[0m\u001b[1;36m400\u001b[0m\u001b[1;33m)\u001b[0m\u001b[1;33m\u001b[0m\u001b[1;33m\u001b[0m\u001b[0m\n\u001b[0m",
      "\u001b[1;32m~\\anaconda3\\lib\\site-packages\\IPython\\core\\display.py\u001b[0m in \u001b[0;36m__init__\u001b[1;34m(self, data, url, filename, format, embed, width, height, retina, unconfined, metadata)\u001b[0m\n\u001b[0;32m   1222\u001b[0m         \u001b[0mself\u001b[0m\u001b[1;33m.\u001b[0m\u001b[0mretina\u001b[0m \u001b[1;33m=\u001b[0m \u001b[0mretina\u001b[0m\u001b[1;33m\u001b[0m\u001b[1;33m\u001b[0m\u001b[0m\n\u001b[0;32m   1223\u001b[0m         \u001b[0mself\u001b[0m\u001b[1;33m.\u001b[0m\u001b[0munconfined\u001b[0m \u001b[1;33m=\u001b[0m \u001b[0munconfined\u001b[0m\u001b[1;33m\u001b[0m\u001b[1;33m\u001b[0m\u001b[0m\n\u001b[1;32m-> 1224\u001b[1;33m         super(Image, self).__init__(data=data, url=url, filename=filename, \n\u001b[0m\u001b[0;32m   1225\u001b[0m                 metadata=metadata)\n\u001b[0;32m   1226\u001b[0m \u001b[1;33m\u001b[0m\u001b[0m\n",
      "\u001b[1;32m~\\anaconda3\\lib\\site-packages\\IPython\\core\\display.py\u001b[0m in \u001b[0;36m__init__\u001b[1;34m(self, data, url, filename, metadata)\u001b[0m\n\u001b[0;32m    628\u001b[0m             \u001b[0mself\u001b[0m\u001b[1;33m.\u001b[0m\u001b[0mmetadata\u001b[0m \u001b[1;33m=\u001b[0m \u001b[1;33m{\u001b[0m\u001b[1;33m}\u001b[0m\u001b[1;33m\u001b[0m\u001b[1;33m\u001b[0m\u001b[0m\n\u001b[0;32m    629\u001b[0m \u001b[1;33m\u001b[0m\u001b[0m\n\u001b[1;32m--> 630\u001b[1;33m         \u001b[0mself\u001b[0m\u001b[1;33m.\u001b[0m\u001b[0mreload\u001b[0m\u001b[1;33m(\u001b[0m\u001b[1;33m)\u001b[0m\u001b[1;33m\u001b[0m\u001b[1;33m\u001b[0m\u001b[0m\n\u001b[0m\u001b[0;32m    631\u001b[0m         \u001b[0mself\u001b[0m\u001b[1;33m.\u001b[0m\u001b[0m_check_data\u001b[0m\u001b[1;33m(\u001b[0m\u001b[1;33m)\u001b[0m\u001b[1;33m\u001b[0m\u001b[1;33m\u001b[0m\u001b[0m\n\u001b[0;32m    632\u001b[0m \u001b[1;33m\u001b[0m\u001b[0m\n",
      "\u001b[1;32m~\\anaconda3\\lib\\site-packages\\IPython\\core\\display.py\u001b[0m in \u001b[0;36mreload\u001b[1;34m(self)\u001b[0m\n\u001b[0;32m   1254\u001b[0m         \u001b[1;34m\"\"\"Reload the raw data from file or URL.\"\"\"\u001b[0m\u001b[1;33m\u001b[0m\u001b[1;33m\u001b[0m\u001b[0m\n\u001b[0;32m   1255\u001b[0m         \u001b[1;32mif\u001b[0m \u001b[0mself\u001b[0m\u001b[1;33m.\u001b[0m\u001b[0membed\u001b[0m\u001b[1;33m:\u001b[0m\u001b[1;33m\u001b[0m\u001b[1;33m\u001b[0m\u001b[0m\n\u001b[1;32m-> 1256\u001b[1;33m             \u001b[0msuper\u001b[0m\u001b[1;33m(\u001b[0m\u001b[0mImage\u001b[0m\u001b[1;33m,\u001b[0m\u001b[0mself\u001b[0m\u001b[1;33m)\u001b[0m\u001b[1;33m.\u001b[0m\u001b[0mreload\u001b[0m\u001b[1;33m(\u001b[0m\u001b[1;33m)\u001b[0m\u001b[1;33m\u001b[0m\u001b[1;33m\u001b[0m\u001b[0m\n\u001b[0m\u001b[0;32m   1257\u001b[0m             \u001b[1;32mif\u001b[0m \u001b[0mself\u001b[0m\u001b[1;33m.\u001b[0m\u001b[0mretina\u001b[0m\u001b[1;33m:\u001b[0m\u001b[1;33m\u001b[0m\u001b[1;33m\u001b[0m\u001b[0m\n\u001b[0;32m   1258\u001b[0m                 \u001b[0mself\u001b[0m\u001b[1;33m.\u001b[0m\u001b[0m_retina_shape\u001b[0m\u001b[1;33m(\u001b[0m\u001b[1;33m)\u001b[0m\u001b[1;33m\u001b[0m\u001b[1;33m\u001b[0m\u001b[0m\n",
      "\u001b[1;32m~\\anaconda3\\lib\\site-packages\\IPython\\core\\display.py\u001b[0m in \u001b[0;36mreload\u001b[1;34m(self)\u001b[0m\n\u001b[0;32m    653\u001b[0m         \u001b[1;34m\"\"\"Reload the raw data from file or URL.\"\"\"\u001b[0m\u001b[1;33m\u001b[0m\u001b[1;33m\u001b[0m\u001b[0m\n\u001b[0;32m    654\u001b[0m         \u001b[1;32mif\u001b[0m \u001b[0mself\u001b[0m\u001b[1;33m.\u001b[0m\u001b[0mfilename\u001b[0m \u001b[1;32mis\u001b[0m \u001b[1;32mnot\u001b[0m \u001b[1;32mNone\u001b[0m\u001b[1;33m:\u001b[0m\u001b[1;33m\u001b[0m\u001b[1;33m\u001b[0m\u001b[0m\n\u001b[1;32m--> 655\u001b[1;33m             \u001b[1;32mwith\u001b[0m \u001b[0mopen\u001b[0m\u001b[1;33m(\u001b[0m\u001b[0mself\u001b[0m\u001b[1;33m.\u001b[0m\u001b[0mfilename\u001b[0m\u001b[1;33m,\u001b[0m \u001b[0mself\u001b[0m\u001b[1;33m.\u001b[0m\u001b[0m_read_flags\u001b[0m\u001b[1;33m)\u001b[0m \u001b[1;32mas\u001b[0m \u001b[0mf\u001b[0m\u001b[1;33m:\u001b[0m\u001b[1;33m\u001b[0m\u001b[1;33m\u001b[0m\u001b[0m\n\u001b[0m\u001b[0;32m    656\u001b[0m                 \u001b[0mself\u001b[0m\u001b[1;33m.\u001b[0m\u001b[0mdata\u001b[0m \u001b[1;33m=\u001b[0m \u001b[0mf\u001b[0m\u001b[1;33m.\u001b[0m\u001b[0mread\u001b[0m\u001b[1;33m(\u001b[0m\u001b[1;33m)\u001b[0m\u001b[1;33m\u001b[0m\u001b[1;33m\u001b[0m\u001b[0m\n\u001b[0;32m    657\u001b[0m         \u001b[1;32melif\u001b[0m \u001b[0mself\u001b[0m\u001b[1;33m.\u001b[0m\u001b[0murl\u001b[0m \u001b[1;32mis\u001b[0m \u001b[1;32mnot\u001b[0m \u001b[1;32mNone\u001b[0m\u001b[1;33m:\u001b[0m\u001b[1;33m\u001b[0m\u001b[1;33m\u001b[0m\u001b[0m\n",
      "\u001b[1;31mFileNotFoundError\u001b[0m: [Errno 2] No such file or directory: 'Figures\\\\TMC_Q7_Fig1.jpg'"
     ]
    }
   ],
   "source": [
    "from IPython.display import Image\n",
    "Image(filename=\"Figures\\TMC_Q7_Fig1.jpg\",width=400,height=400)"
   ]
  },
  {
   "cell_type": "markdown",
   "id": "7eb545a4",
   "metadata": {},
   "source": [
    "The depth of the core is 5cm, the lentgh of the air-gap in the core is 0.06cm and the number of turns in the coil is 1000. The magnetisation curve of the core material is shown in the figure below:"
   ]
  },
  {
   "cell_type": "code",
   "execution_count": null,
   "id": "6242f56d",
   "metadata": {},
   "outputs": [],
   "source": [
    "from IPython.display import Image\n",
    "Image(filename=\"Figures\\TMC_Q7_Fig2.jpg\",width=400,height=400)"
   ]
  },
  {
   "cell_type": "markdown",
   "id": "4334f587",
   "metadata": {},
   "source": [
    "Assume a 5% increase in the effective air-gap area to account for fringing. How much current is required to produce an air-gap flux density of 0.5T? What are the flux densities of the four sides of the core at that current? What is the total flux present in the air-gap? "
   ]
  },
  {
   "cell_type": "markdown",
   "id": "56563294",
   "metadata": {},
   "source": [
    "### Answer"
   ]
  },
  {
   "cell_type": "markdown",
   "id": "971a582d",
   "metadata": {},
   "source": [
    "The air-gap flux density is 0.5T. The total flux in order to generate the required flux density in the air-gap should be $\\phi = B_g \\cdot A_{eff}$. "
   ]
  },
  {
   "cell_type": "code",
   "execution_count": 12,
   "id": "1217915d",
   "metadata": {},
   "outputs": [
    {
     "name": "stdout",
     "output_type": "stream",
     "text": [
      "flux = 0.001313 Wb \n"
     ]
    }
   ],
   "source": [
    "N = 1000 # [turns] number of turns in the coil\n",
    "Bg = 0.5 # [T] flux density in the air-gap\n",
    "d = 0.05 # [m] depth of the core\n",
    "wgap = 0.05 # [m] width of the airgap\n",
    "wright = 0.05 # [m] width of the right side of the core\n",
    "wleft = 0.1 # [m] width of the left side of the core\n",
    "wtop = 0.1 # [m] width of the right side of the core\n",
    "wbottom = 0.05 # [m] width of the right side of the core\n",
    "ffactor = 1.05 # fringing factor of 5%\n",
    "flux = Bg * d * wgap * ffactor\n",
    "print('ϕ = {:.6f} Wb '.format(flux))"
   ]
  },
  {
   "cell_type": "markdown",
   "id": "4819c219",
   "metadata": {},
   "source": [
    "This flux requires a flux density in the right hand side of the core equal to $B_{right} = \\dfrac{\\phi}{A}$"
   ]
  },
  {
   "cell_type": "code",
   "execution_count": 13,
   "id": "972a6cbf",
   "metadata": {},
   "outputs": [
    {
     "name": "stdout",
     "output_type": "stream",
     "text": [
      "Bright = 0.525000 T \n"
     ]
    }
   ],
   "source": [
    "Bright = flux / (d * wright)\n",
    "print('Bright = {:.6f} T '.format(Bright))"
   ]
  },
  {
   "cell_type": "markdown",
   "id": "347a0b3e",
   "metadata": {},
   "source": [
    "The other three sides have exactly the same width, so the flux density for the three sides is:"
   ]
  },
  {
   "cell_type": "code",
   "execution_count": 14,
   "id": "8ea485df",
   "metadata": {},
   "outputs": [
    {
     "name": "stdout",
     "output_type": "stream",
     "text": [
      "B = 0.262500 T \n"
     ]
    }
   ],
   "source": [
    "B = flux / (d * wtop)\n",
    "print('B = {:.6f} T '.format(B))"
   ]
  },
  {
   "cell_type": "markdown",
   "id": "89d0a543",
   "metadata": {},
   "source": [
    "The magnetising intensity required to produce a flux density of 0.5T in the air-gap can be found from $B_g = \\mu_0 H_g$"
   ]
  },
  {
   "cell_type": "code",
   "execution_count": 15,
   "id": "afeb3111",
   "metadata": {},
   "outputs": [
    {
     "name": "stdout",
     "output_type": "stream",
     "text": [
      "Hg = 397887.357513 AT/m \n"
     ]
    }
   ],
   "source": [
    "Hg = Bg/c.mu_0\n",
    "print('Hg = {:.6f} AT/m '.format(Hg))"
   ]
  },
  {
   "cell_type": "markdown",
   "id": "8c506940",
   "metadata": {},
   "source": [
    "The magnetising intensity for all sides of the magnetic core can be found using the magnetisation curve provided for the material of the core. "
   ]
  },
  {
   "cell_type": "code",
   "execution_count": 16,
   "id": "93aa8304",
   "metadata": {},
   "outputs": [],
   "source": [
    "Hright = 410 # [AT/m]\n",
    "Htop = 240 # [AT/m]\n",
    "Hbottom = 240 # [AT/m]\n",
    "Hleft = 240 # [AT/m]\n",
    "\n",
    "lg = 0.0006 # [m] length of the airgap\n",
    "lright = 0.4-0.0006 # [m]\n",
    "lleft = 0.4 # [m]\n",
    "lbottom = 0.375 # [m]\n",
    "ltop = 0.375 # [m]"
   ]
  },
  {
   "cell_type": "markdown",
   "id": "d97b4d7c",
   "metadata": {},
   "source": [
    "The total MMF required in order to produce the flux can be calculated from Ampere's law."
   ]
  },
  {
   "cell_type": "code",
   "execution_count": 17,
   "id": "9378b99e",
   "metadata": {},
   "outputs": [
    {
     "name": "stdout",
     "output_type": "stream",
     "text": [
      "MMF = 678.486415 AT \n"
     ]
    }
   ],
   "source": [
    "MMF = Hg * lg + Hright * lright + Hleft * lleft + Hbottom * lbottom + Htop * ltop\n",
    "print('MMF = {:.6f} AT '.format(MMF))"
   ]
  },
  {
   "cell_type": "markdown",
   "id": "89016986",
   "metadata": {},
   "source": [
    "The required current can be found by $I = \\dfrac{MMF}{N}$"
   ]
  },
  {
   "cell_type": "code",
   "execution_count": 18,
   "id": "17f162e4",
   "metadata": {},
   "outputs": [
    {
     "name": "stdout",
     "output_type": "stream",
     "text": [
      "I = 0.678486 A \n"
     ]
    }
   ],
   "source": [
    "I = MMF / N\n",
    "print('I = {:.6f} A '.format(I))"
   ]
  }
 ],
 "metadata": {
  "kernelspec": {
   "display_name": "Python 3",
   "language": "python",
   "name": "python3"
  },
  "language_info": {
   "codemirror_mode": {
    "name": "ipython",
    "version": 3
   },
   "file_extension": ".py",
   "mimetype": "text/x-python",
   "name": "python",
   "nbconvert_exporter": "python",
   "pygments_lexer": "ipython3",
   "version": "3.8.8"
  }
 },
 "nbformat": 4,
 "nbformat_minor": 5
}
