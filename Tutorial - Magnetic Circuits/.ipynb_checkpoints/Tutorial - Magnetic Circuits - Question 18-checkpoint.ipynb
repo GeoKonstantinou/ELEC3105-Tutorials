{
 "cells": [
  {
   "cell_type": "markdown",
   "id": "af23dba3",
   "metadata": {},
   "source": [
    "## ELEC 3105\n",
    "## Tutorial - Magnetic Circuits\n",
    "## Question 18"
   ]
  },
  {
   "cell_type": "code",
   "execution_count": 1,
   "id": "67495d07",
   "metadata": {},
   "outputs": [
    {
     "data": {
      "text/html": [
       "<button onclick=\"$('.input, .prompt, .output_stderr, .output_error').toggle();\n",
       "\">Click here to toggle on/off the raw code</button>"
      ]
     },
     "metadata": {},
     "output_type": "display_data"
    }
   ],
   "source": [
    "from IPython.display import display_html\n",
    "display_html(\"\"\"<button onclick=\"$('.input, .prompt, .output_stderr, .output_error').toggle();\n",
    "\">Click here to toggle on/off the raw code</button>\"\"\", raw=True)"
   ]
  },
  {
   "cell_type": "code",
   "execution_count": 2,
   "id": "03cd7dad",
   "metadata": {},
   "outputs": [
    {
     "name": "stdout",
     "output_type": "stream",
     "text": [
      "Populating the interactive namespace from numpy and matplotlib\n"
     ]
    }
   ],
   "source": [
    "%pylab inline\n",
    "%precision %.4g\n",
    "import cmath\n",
    "from scipy import constants as c   # Enables constants in the Notebook"
   ]
  },
  {
   "cell_type": "markdown",
   "id": "2347825f",
   "metadata": {},
   "source": [
    "A toroidal core of mean radius $r$ = 5 cm has a cross section area $S_c$ = 20 cm$^2$. The core is wound with a uniformly distributed coil of 300 turns. The $B-H$ characteristic of the ferromagnetic material of the core can be approximated as shown in the following figure. The coil is driven from a 240 V, 50 Hz sinusoidal AC supply. Find the hysteresis loss in the core."
   ]
  },
  {
   "cell_type": "code",
   "execution_count": 4,
   "id": "0568f8f5",
   "metadata": {},
   "outputs": [
    {
     "data": {
      "image/png": "[encoded data removed]",
      "text/plain": [
       "<IPython.core.display.Image object>"
      ]
     },
     "execution_count": 4,
     "metadata": {
      "image/png": {
       "height": 400,
       "width": 400
      }
     },
     "output_type": "execute_result"
    }
   ],
   "source": [
    "from IPython.display import Image\n",
    "Image(filename=\"Figures\\TMC_Q18_Fig1.png\",width=400,height=400)"
   ]
  },
  {
   "cell_type": "markdown",
   "id": "82cf7600",
   "metadata": {},
   "source": [
    "### Answer"
   ]
  },
  {
   "cell_type": "markdown",
   "id": "2a6b19fb",
   "metadata": {},
   "source": [
    "Firstly, we need to calculate the area of the $B-H$ loop:"
   ]
  },
  {
   "cell_type": "code",
   "execution_count": 34,
   "id": "aad3fd76",
   "metadata": {},
   "outputs": [],
   "source": [
    "r = 0.05 # [m] Radius of the core\n",
    "Sc = 0.0020 # [m^2] cross-sectional area\n",
    "B1 = 1.1 # [T]\n",
    "B2 = 1.2 # [T]\n",
    "H1 = 30 #[AT/m]\n",
    "H2 = -30 #[AT/m]\n",
    "f = 50 # [Hz]\n",
    "V = 240 # [V]\n",
    "N = 300 # [turns]\n"
   ]
  },
  {
   "cell_type": "code",
   "execution_count": 35,
   "id": "3b754be0",
   "metadata": {},
   "outputs": [
    {
     "name": "stdout",
     "output_type": "stream",
     "text": [
      "BH loop area = 138.00 J\n"
     ]
    }
   ],
   "source": [
    "A_BH = 2*(B1 + B2)/2 * (H1 - H2)\n",
    "print('BH loop area = {:.2f} J'.format(A_BH))"
   ]
  },
  {
   "cell_type": "markdown",
   "id": "494a96bf",
   "metadata": {},
   "source": [
    "The total energy lost each period of the fundamental frequency is the area of the $B-H$ loop  multiplied by the volume of the core. "
   ]
  },
  {
   "cell_type": "code",
   "execution_count": 36,
   "id": "0652d56c",
   "metadata": {},
   "outputs": [
    {
     "name": "stdout",
     "output_type": "stream",
     "text": [
      "E_loss = 0.0867 J/period\n"
     ]
    }
   ],
   "source": [
    "E_loss = 138 * 2 * pi * r * Sc\n",
    "print('E_loss = {:.4f} J/period'.format(E_loss))"
   ]
  },
  {
   "cell_type": "markdown",
   "id": "3a9868d1",
   "metadata": {},
   "source": [
    "The hysteresis power loss is simply the energy lost over 1 second, of 50 times the fundamental period (for a 50 Hz signal)."
   ]
  },
  {
   "cell_type": "code",
   "execution_count": 37,
   "id": "f5b4ddf8",
   "metadata": {},
   "outputs": [
    {
     "name": "stdout",
     "output_type": "stream",
     "text": [
      "P_loss = 4.3354 W\n"
     ]
    }
   ],
   "source": [
    "P_loss = E_loss * 50\n",
    "print('P_loss = {:.4f} W'.format(P_loss))"
   ]
  },
  {
   "cell_type": "markdown",
   "id": "ef399847",
   "metadata": {},
   "source": [
    "This calculation is done based on the assumption that the magnetisation curve is covered completely each period. The maximum flux density in the core is calculation from $V = 4.44\\cdot f \\cdot N \\cdot B_{max} \\cdot S_c$"
   ]
  },
  {
   "cell_type": "code",
   "execution_count": 39,
   "id": "44ba48cb",
   "metadata": {},
   "outputs": [
    {
     "name": "stdout",
     "output_type": "stream",
     "text": [
      "B_max = 1.8018 T\n"
     ]
    }
   ],
   "source": [
    "B_max = V / (4.44 * f * N * Sc)\n",
    "print('B_max = {:.4f} T'.format(B_max))"
   ]
  },
  {
   "cell_type": "markdown",
   "id": "7ca64f30",
   "metadata": {},
   "source": [
    "The $B$ field in the core exceeds 1.2 T, so the full $B-H$ loop is completed in each cycle of magnetization. \n",
    "\n",
    "Note: If $B_{max} < 1.2$~T, a minor loop would be traversed in each cycle of magnetization. Thus if $B_{max} = 0.8$ T for example, the minor $BH$ loop for $B$ = 0.8~T is to be found for calculation of the hysteresis losses. The width and height of the $BH$ loop would need to be found."
   ]
  },
  {
   "cell_type": "code",
   "execution_count": 40,
   "id": "486b1dc1",
   "metadata": {},
   "outputs": [
    {
     "data": {
      "image/png": "[encoded data removed]",
      "text/plain": [
       "<IPython.core.display.Image object>"
      ]
     },
     "execution_count": 40,
     "metadata": {
      "image/png": {
       "height": 400,
       "width": 400
      }
     },
     "output_type": "execute_result"
    }
   ],
   "source": [
    "from IPython.display import Image\n",
    "Image(filename=\"Figures\\TMC_Q18_Fig2.png\",width=400,height=400)"
   ]
  }
 ],
 "metadata": {
  "kernelspec": {
   "display_name": "Python 3",
   "language": "python",
   "name": "python3"
  },
  "language_info": {
   "codemirror_mode": {
    "name": "ipython",
    "version": 3
   },
   "file_extension": ".py",
   "mimetype": "text/x-python",
   "name": "python",
   "nbconvert_exporter": "python",
   "pygments_lexer": "ipython3",
   "version": "3.8.8"
  }
 },
 "nbformat": 4,
 "nbformat_minor": 5
}
