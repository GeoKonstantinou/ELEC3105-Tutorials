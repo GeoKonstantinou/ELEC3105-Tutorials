{
 "cells": [
  {
   "cell_type": "markdown",
   "id": "0c471ab6",
   "metadata": {},
   "source": [
    "## ELEC 3105\n",
    "## Tutorial - Magnetic Circuits\n",
    "## Question 11"
   ]
  },
  {
   "cell_type": "code",
   "execution_count": 1,
   "id": "d7558b67",
   "metadata": {},
   "outputs": [
    {
     "data": {
      "text/html": [
       "<button onclick=\"$('.input, .prompt, .output_stderr, .output_error').toggle();\n",
       "\">Click here to toggle on/off the raw code</button>"
      ]
     },
     "metadata": {},
     "output_type": "display_data"
    }
   ],
   "source": [
    "from IPython.display import display_html\n",
    "display_html(\"\"\"<button onclick=\"$('.input, .prompt, .output_stderr, .output_error').toggle();\n",
    "\">Click here to toggle on/off the raw code</button>\"\"\", raw=True)"
   ]
  },
  {
   "cell_type": "code",
   "execution_count": 2,
   "id": "1642b5e7",
   "metadata": {},
   "outputs": [
    {
     "name": "stdout",
     "output_type": "stream",
     "text": [
      "Populating the interactive namespace from numpy and matplotlib\n"
     ]
    }
   ],
   "source": [
    "%pylab inline\n",
    "%precision %.4g\n",
    "import cmath\n",
    "from scipy import constants as c   # Enables constants in the Notebook"
   ]
  },
  {
   "cell_type": "markdown",
   "id": "64fc6af5",
   "metadata": {},
   "source": [
    "A core with three limps is shown in the following figure:"
   ]
  },
  {
   "cell_type": "code",
   "execution_count": 3,
   "id": "d6db6037",
   "metadata": {},
   "outputs": [
    {
     "ename": "FileNotFoundError",
     "evalue": "[Errno 2] No such file or directory: 'Figures\\\\TMC_Q11_Fig1.jpg'",
     "output_type": "error",
     "traceback": [
      "\u001b[1;31m---------------------------------------------------------------------------\u001b[0m",
      "\u001b[1;31mFileNotFoundError\u001b[0m                         Traceback (most recent call last)",
      "\u001b[1;32m<ipython-input-3-1a89c6e109b2>\u001b[0m in \u001b[0;36m<module>\u001b[1;34m\u001b[0m\n\u001b[0;32m      1\u001b[0m \u001b[1;32mfrom\u001b[0m \u001b[0mIPython\u001b[0m\u001b[1;33m.\u001b[0m\u001b[0mdisplay\u001b[0m \u001b[1;32mimport\u001b[0m \u001b[0mImage\u001b[0m\u001b[1;33m\u001b[0m\u001b[1;33m\u001b[0m\u001b[0m\n\u001b[1;32m----> 2\u001b[1;33m \u001b[0mImage\u001b[0m\u001b[1;33m(\u001b[0m\u001b[0mfilename\u001b[0m\u001b[1;33m=\u001b[0m\u001b[1;34m\"Figures\\TMC_Q11_Fig1.jpg\"\u001b[0m\u001b[1;33m,\u001b[0m\u001b[0mwidth\u001b[0m\u001b[1;33m=\u001b[0m\u001b[1;36m500\u001b[0m\u001b[1;33m,\u001b[0m\u001b[0mheight\u001b[0m\u001b[1;33m=\u001b[0m\u001b[1;36m500\u001b[0m\u001b[1;33m)\u001b[0m\u001b[1;33m\u001b[0m\u001b[1;33m\u001b[0m\u001b[0m\n\u001b[0m",
      "\u001b[1;32m~\\anaconda3\\lib\\site-packages\\IPython\\core\\display.py\u001b[0m in \u001b[0;36m__init__\u001b[1;34m(self, data, url, filename, format, embed, width, height, retina, unconfined, metadata)\u001b[0m\n\u001b[0;32m   1222\u001b[0m         \u001b[0mself\u001b[0m\u001b[1;33m.\u001b[0m\u001b[0mretina\u001b[0m \u001b[1;33m=\u001b[0m \u001b[0mretina\u001b[0m\u001b[1;33m\u001b[0m\u001b[1;33m\u001b[0m\u001b[0m\n\u001b[0;32m   1223\u001b[0m         \u001b[0mself\u001b[0m\u001b[1;33m.\u001b[0m\u001b[0munconfined\u001b[0m \u001b[1;33m=\u001b[0m \u001b[0munconfined\u001b[0m\u001b[1;33m\u001b[0m\u001b[1;33m\u001b[0m\u001b[0m\n\u001b[1;32m-> 1224\u001b[1;33m         super(Image, self).__init__(data=data, url=url, filename=filename, \n\u001b[0m\u001b[0;32m   1225\u001b[0m                 metadata=metadata)\n\u001b[0;32m   1226\u001b[0m \u001b[1;33m\u001b[0m\u001b[0m\n",
      "\u001b[1;32m~\\anaconda3\\lib\\site-packages\\IPython\\core\\display.py\u001b[0m in \u001b[0;36m__init__\u001b[1;34m(self, data, url, filename, metadata)\u001b[0m\n\u001b[0;32m    628\u001b[0m             \u001b[0mself\u001b[0m\u001b[1;33m.\u001b[0m\u001b[0mmetadata\u001b[0m \u001b[1;33m=\u001b[0m \u001b[1;33m{\u001b[0m\u001b[1;33m}\u001b[0m\u001b[1;33m\u001b[0m\u001b[1;33m\u001b[0m\u001b[0m\n\u001b[0;32m    629\u001b[0m \u001b[1;33m\u001b[0m\u001b[0m\n\u001b[1;32m--> 630\u001b[1;33m         \u001b[0mself\u001b[0m\u001b[1;33m.\u001b[0m\u001b[0mreload\u001b[0m\u001b[1;33m(\u001b[0m\u001b[1;33m)\u001b[0m\u001b[1;33m\u001b[0m\u001b[1;33m\u001b[0m\u001b[0m\n\u001b[0m\u001b[0;32m    631\u001b[0m         \u001b[0mself\u001b[0m\u001b[1;33m.\u001b[0m\u001b[0m_check_data\u001b[0m\u001b[1;33m(\u001b[0m\u001b[1;33m)\u001b[0m\u001b[1;33m\u001b[0m\u001b[1;33m\u001b[0m\u001b[0m\n\u001b[0;32m    632\u001b[0m \u001b[1;33m\u001b[0m\u001b[0m\n",
      "\u001b[1;32m~\\anaconda3\\lib\\site-packages\\IPython\\core\\display.py\u001b[0m in \u001b[0;36mreload\u001b[1;34m(self)\u001b[0m\n\u001b[0;32m   1254\u001b[0m         \u001b[1;34m\"\"\"Reload the raw data from file or URL.\"\"\"\u001b[0m\u001b[1;33m\u001b[0m\u001b[1;33m\u001b[0m\u001b[0m\n\u001b[0;32m   1255\u001b[0m         \u001b[1;32mif\u001b[0m \u001b[0mself\u001b[0m\u001b[1;33m.\u001b[0m\u001b[0membed\u001b[0m\u001b[1;33m:\u001b[0m\u001b[1;33m\u001b[0m\u001b[1;33m\u001b[0m\u001b[0m\n\u001b[1;32m-> 1256\u001b[1;33m             \u001b[0msuper\u001b[0m\u001b[1;33m(\u001b[0m\u001b[0mImage\u001b[0m\u001b[1;33m,\u001b[0m\u001b[0mself\u001b[0m\u001b[1;33m)\u001b[0m\u001b[1;33m.\u001b[0m\u001b[0mreload\u001b[0m\u001b[1;33m(\u001b[0m\u001b[1;33m)\u001b[0m\u001b[1;33m\u001b[0m\u001b[1;33m\u001b[0m\u001b[0m\n\u001b[0m\u001b[0;32m   1257\u001b[0m             \u001b[1;32mif\u001b[0m \u001b[0mself\u001b[0m\u001b[1;33m.\u001b[0m\u001b[0mretina\u001b[0m\u001b[1;33m:\u001b[0m\u001b[1;33m\u001b[0m\u001b[1;33m\u001b[0m\u001b[0m\n\u001b[0;32m   1258\u001b[0m                 \u001b[0mself\u001b[0m\u001b[1;33m.\u001b[0m\u001b[0m_retina_shape\u001b[0m\u001b[1;33m(\u001b[0m\u001b[1;33m)\u001b[0m\u001b[1;33m\u001b[0m\u001b[1;33m\u001b[0m\u001b[0m\n",
      "\u001b[1;32m~\\anaconda3\\lib\\site-packages\\IPython\\core\\display.py\u001b[0m in \u001b[0;36mreload\u001b[1;34m(self)\u001b[0m\n\u001b[0;32m    653\u001b[0m         \u001b[1;34m\"\"\"Reload the raw data from file or URL.\"\"\"\u001b[0m\u001b[1;33m\u001b[0m\u001b[1;33m\u001b[0m\u001b[0m\n\u001b[0;32m    654\u001b[0m         \u001b[1;32mif\u001b[0m \u001b[0mself\u001b[0m\u001b[1;33m.\u001b[0m\u001b[0mfilename\u001b[0m \u001b[1;32mis\u001b[0m \u001b[1;32mnot\u001b[0m \u001b[1;32mNone\u001b[0m\u001b[1;33m:\u001b[0m\u001b[1;33m\u001b[0m\u001b[1;33m\u001b[0m\u001b[0m\n\u001b[1;32m--> 655\u001b[1;33m             \u001b[1;32mwith\u001b[0m \u001b[0mopen\u001b[0m\u001b[1;33m(\u001b[0m\u001b[0mself\u001b[0m\u001b[1;33m.\u001b[0m\u001b[0mfilename\u001b[0m\u001b[1;33m,\u001b[0m \u001b[0mself\u001b[0m\u001b[1;33m.\u001b[0m\u001b[0m_read_flags\u001b[0m\u001b[1;33m)\u001b[0m \u001b[1;32mas\u001b[0m \u001b[0mf\u001b[0m\u001b[1;33m:\u001b[0m\u001b[1;33m\u001b[0m\u001b[1;33m\u001b[0m\u001b[0m\n\u001b[0m\u001b[0;32m    656\u001b[0m                 \u001b[0mself\u001b[0m\u001b[1;33m.\u001b[0m\u001b[0mdata\u001b[0m \u001b[1;33m=\u001b[0m \u001b[0mf\u001b[0m\u001b[1;33m.\u001b[0m\u001b[0mread\u001b[0m\u001b[1;33m(\u001b[0m\u001b[1;33m)\u001b[0m\u001b[1;33m\u001b[0m\u001b[1;33m\u001b[0m\u001b[0m\n\u001b[0;32m    657\u001b[0m         \u001b[1;32melif\u001b[0m \u001b[0mself\u001b[0m\u001b[1;33m.\u001b[0m\u001b[0murl\u001b[0m \u001b[1;32mis\u001b[0m \u001b[1;32mnot\u001b[0m \u001b[1;32mNone\u001b[0m\u001b[1;33m:\u001b[0m\u001b[1;33m\u001b[0m\u001b[1;33m\u001b[0m\u001b[0m\n",
      "\u001b[1;31mFileNotFoundError\u001b[0m: [Errno 2] No such file or directory: 'Figures\\\\TMC_Q11_Fig1.jpg'"
     ]
    }
   ],
   "source": [
    "from IPython.display import Image\n",
    "Image(filename=\"Figures\\TMC_Q11_Fig1.png\",width=500,height=500)"
   ]
  },
  {
   "cell_type": "markdown",
   "id": "8fac636a",
   "metadata": {},
   "source": [
    "The depth of the core is 5cm and the number of turns in the coil is 200. The relative permeability of the core is 1500. Alsu assume that the effective area of the air-gap increases 4% due to fringing.\n",
    "\n",
    "* What is the flux in each limp of the core?\n",
    "* What is the flux density in each of the limps?"
   ]
  },
  {
   "cell_type": "markdown",
   "id": "273d83b7",
   "metadata": {},
   "source": [
    "### Answer"
   ]
  },
  {
   "cell_type": "markdown",
   "id": "d1bac7ac",
   "metadata": {},
   "source": [
    "There are four different areas in this circuit that we need to calculate the reluctance:\n",
    "* The left side of the core, $R_l$\n",
    "* The middle limp, $R_m$\n",
    "* The air-gap, and $R_{ag}$\n",
    "* The right side of the core, $R_r$. \n",
    "\n",
    "The total reluctance of the core will be $$R_{total} = R_l + \\dfrac{(R_m + R_{ag})R_r}{R_m + R_{ag}+R_r}$$"
   ]
  },
  {
   "cell_type": "code",
   "execution_count": 4,
   "id": "c01be95c",
   "metadata": {},
   "outputs": [],
   "source": [
    "ll = 1.08 #[m]\n",
    "lm = 0.34 # [m]\n",
    "lag = 0.0004 #[m]\n",
    "lr = 1.08 #[m]\n",
    "mu_r = 1500\n",
    "d = 0.05 # [m] depth of the core\n",
    "wl = 0.09 #[m]\n",
    "wr = 0.09 #[m]\n",
    "wm = 0.15 #[m]\n",
    "ffring = 1.04\n",
    "N = 200 # [turns]\n",
    "I = 2 #[A]"
   ]
  },
  {
   "cell_type": "code",
   "execution_count": 5,
   "id": "24757e36",
   "metadata": {},
   "outputs": [
    {
     "name": "stdout",
     "output_type": "stream",
     "text": [
      "Rl = 127323.95 AT/Wb\n",
      "Rr = 127323.95 AT/Wb\n",
      "Rm = 24050.08 AT/Wb\n",
      "Rag = 40808.96 AT/Wb\n"
     ]
    }
   ],
   "source": [
    "Rl = ll/(mu_r * c.mu_0 * wl * d)\n",
    "Rr = lr/(mu_r * c.mu_0 * wr * d)\n",
    "Rm = lm/(mu_r * c.mu_0 * wm * d)\n",
    "Rag = lag/(c.mu_0 * wm * d * ffring)\n",
    "print('Rl = {:.2f} AT/Wb'.format(Rl))\n",
    "print('Rr = {:.2f} AT/Wb'.format(Rr))\n",
    "print('Rm = {:.2f} AT/Wb'.format(Rm))\n",
    "print('Rag = {:.2f} AT/Wb'.format(Rag))"
   ]
  },
  {
   "cell_type": "code",
   "execution_count": 6,
   "id": "d6d2f893",
   "metadata": {},
   "outputs": [
    {
     "name": "stdout",
     "output_type": "stream",
     "text": [
      "Rag = 40808.96 AT/Wb\n"
     ]
    }
   ],
   "source": [
    "Rtotal = Rl + ((Rm+Rag)*Rr)/(Rm + Rag + Rr)\n",
    "print('Rag = {:.2f} AT/Wb'.format(Rag))"
   ]
  },
  {
   "cell_type": "markdown",
   "id": "e2af02f8",
   "metadata": {},
   "source": [
    "The MMF generated by the coil is $ MMF = N \\cdot I$"
   ]
  },
  {
   "cell_type": "code",
   "execution_count": 7,
   "id": "84a83fb6",
   "metadata": {},
   "outputs": [
    {
     "name": "stdout",
     "output_type": "stream",
     "text": [
      "MMF = 400.00 AT\n"
     ]
    }
   ],
   "source": [
    "MMF = N * I\n",
    "print('MMF = {:.2f} AT'.format(MMF))"
   ]
  },
  {
   "cell_type": "markdown",
   "id": "7aac7371",
   "metadata": {},
   "source": [
    "The total flux of the core is equal to the flux of the left side of the core and will be equal to $\\phi = \\dfrac{MMF}{R_{total}}$"
   ]
  },
  {
   "cell_type": "code",
   "execution_count": 8,
   "id": "dc9382cc",
   "metadata": {},
   "outputs": [
    {
     "name": "stdout",
     "output_type": "stream",
     "text": [
      "φtotal = 0.002349 Wb\n"
     ]
    }
   ],
   "source": [
    "flux_total = flux_left = MMF / Rtotal\n",
    "print('φtotal = {:.6f} Wb'.format(flux_total))"
   ]
  },
  {
   "cell_type": "code",
   "execution_count": 9,
   "id": "b92b5bf1",
   "metadata": {},
   "outputs": [
    {
     "name": "stdout",
     "output_type": "stream",
     "text": [
      "φmiddle = 0.001556 Wb\n"
     ]
    }
   ],
   "source": [
    "flux_middle = (Rr)/(Rm + Rag + Rr) * flux_total\n",
    "print('φmiddle = {:.6f} Wb'.format(flux_middle))"
   ]
  },
  {
   "cell_type": "code",
   "execution_count": 10,
   "id": "c0866fde",
   "metadata": {},
   "outputs": [
    {
     "name": "stdout",
     "output_type": "stream",
     "text": [
      "φright = 0.000793 Wb\n"
     ]
    }
   ],
   "source": [
    "flux_right = (Rm + Rag)/(Rm + Rag + Rr) * flux_total\n",
    "print('φright = {:.6f} Wb'.format(flux_right))"
   ]
  },
  {
   "cell_type": "markdown",
   "id": "f59d3524",
   "metadata": {},
   "source": [
    "The flux density in each of the limbs of the core can be calculated using $B = \\dfrac{\\phi}{A}$"
   ]
  },
  {
   "cell_type": "code",
   "execution_count": 13,
   "id": "8d388895",
   "metadata": {},
   "outputs": [
    {
     "name": "stdout",
     "output_type": "stream",
     "text": [
      "Bleft = 0.5220 Wb\n"
     ]
    }
   ],
   "source": [
    "Bleft = flux_left / (wl * d)\n",
    "print('Bleft = {:.4f} T'.format(Bleft))"
   ]
  },
  {
   "cell_type": "code",
   "execution_count": 17,
   "id": "c456079f",
   "metadata": {},
   "outputs": [
    {
     "name": "stdout",
     "output_type": "stream",
     "text": [
      "Bleft = 0.2075 Wb\n"
     ]
    }
   ],
   "source": [
    "Bmiddle = flux_middle / (wm * d)\n",
    "print('Bleft = {:.4f} T'.format(Bmiddle))"
   ]
  },
  {
   "cell_type": "code",
   "execution_count": 16,
   "id": "f7970da8",
   "metadata": {},
   "outputs": [
    {
     "name": "stdout",
     "output_type": "stream",
     "text": [
      "Bleft = 0.1762 Wb\n"
     ]
    }
   ],
   "source": [
    "Bright = flux_right / (wr * d)\n",
    "print('Bleft = {:.4f} T'.format(Bright))"
   ]
  }
 ],
 "metadata": {
  "kernelspec": {
   "display_name": "Python 3",
   "language": "python",
   "name": "python3"
  },
  "language_info": {
   "codemirror_mode": {
    "name": "ipython",
    "version": 3
   },
   "file_extension": ".py",
   "mimetype": "text/x-python",
   "name": "python",
   "nbconvert_exporter": "python",
   "pygments_lexer": "ipython3",
   "version": "3.8.8"
  }
 },
 "nbformat": 4,
 "nbformat_minor": 5
}
