{
 "cells": [
  {
   "cell_type": "markdown",
   "id": "567ab059",
   "metadata": {},
   "source": [
    "# ELEC 3105\n",
    "## Tutorial - Magnetic Circuits\n",
    "## Question 3"
   ]
  },
  {
   "cell_type": "code",
   "execution_count": 1,
   "id": "54bda9a9",
   "metadata": {},
   "outputs": [
    {
     "data": {
      "text/html": [
       "<button onclick=\"$('.input, .prompt, .output_stderr, .output_error').toggle();\n",
       "\">Click here to toggle on/off the raw code</button>"
      ]
     },
     "metadata": {},
     "output_type": "display_data"
    }
   ],
   "source": [
    "from IPython.display import display_html\n",
    "display_html(\"\"\"<button onclick=\"$('.input, .prompt, .output_stderr, .output_error').toggle();\n",
    "\">Click here to toggle on/off the raw code</button>\"\"\", raw=True)"
   ]
  },
  {
   "cell_type": "code",
   "execution_count": 2,
   "id": "82b91efe",
   "metadata": {},
   "outputs": [
    {
     "name": "stdout",
     "output_type": "stream",
     "text": [
      "Populating the interactive namespace from numpy and matplotlib\n"
     ]
    }
   ],
   "source": [
    "%pylab inline\n",
    "%precision %.4g\n",
    "import cmath\n",
    "from scipy import constants as c   # Enables constants in the Notebook"
   ]
  },
  {
   "cell_type": "markdown",
   "id": "0df19ce1",
   "metadata": {},
   "source": [
    "A magnetic circuit has 150 turns of coil and the cross-sectional area and the length of the magnetic circuit are 0.0005$m^2$ and 0.025m, respectively. Determine $H$ and the relative permeability $\\mu_r$ of the core when the current is 2A and total flux $\\phi$ is 0.3mWb.  "
   ]
  },
  {
   "cell_type": "markdown",
   "id": "0d7b600a",
   "metadata": {},
   "source": [
    "### Answer"
   ]
  },
  {
   "cell_type": "code",
   "execution_count": 3,
   "id": "ca79688d",
   "metadata": {},
   "outputs": [
    {
     "data": {
      "text/plain": [
       "1.257e-06"
      ]
     },
     "execution_count": 3,
     "metadata": {},
     "output_type": "execute_result"
    }
   ],
   "source": [
    "N = 150 #[turns] The number of turns in the coil \n",
    "A = 0.0005 # [$m^2$] cross-sectional area\n",
    "l = 0.25 # [m] length\n",
    "mu_r = 1600 # relative permeability\n",
    "I = 2 # [A] current\n",
    "flux = 0.0003 # [Wb] flux\n",
    "c.mu_0 # Permeability of free space"
   ]
  },
  {
   "cell_type": "markdown",
   "id": "d7375e9e",
   "metadata": {},
   "source": [
    "When the current is 2A, $MMF = N\\cdot I$:"
   ]
  },
  {
   "cell_type": "code",
   "execution_count": 4,
   "id": "47d8fe92",
   "metadata": {},
   "outputs": [
    {
     "name": "stdout",
     "output_type": "stream",
     "text": [
      "MMF = 300.00 AT\n"
     ]
    }
   ],
   "source": [
    "MMF = N * I \n",
    "print('MMF = {:.2f} AT'.format(MMF))"
   ]
  },
  {
   "cell_type": "markdown",
   "id": "04e0251f",
   "metadata": {},
   "source": [
    "The magnetic field intensity is $H = \\dfrac{N \\cdot I}{l}$"
   ]
  },
  {
   "cell_type": "code",
   "execution_count": 5,
   "id": "13c2e24f",
   "metadata": {},
   "outputs": [
    {
     "name": "stdout",
     "output_type": "stream",
     "text": [
      "H = 1200.00 A/m\n"
     ]
    }
   ],
   "source": [
    "H = N * I / l\n",
    "print('H = {:.2f} A/m'.format(H))"
   ]
  },
  {
   "cell_type": "markdown",
   "id": "41567bea",
   "metadata": {},
   "source": [
    "Field density is $B = \\dfrac{\\phi}{A}$"
   ]
  },
  {
   "cell_type": "code",
   "execution_count": 6,
   "id": "f2b4d7c3",
   "metadata": {},
   "outputs": [
    {
     "name": "stdout",
     "output_type": "stream",
     "text": [
      "B = 0.60 T\n"
     ]
    }
   ],
   "source": [
    "B = flux / A\n",
    "print('B = {:.2f} T'.format(B))"
   ]
  },
  {
   "cell_type": "markdown",
   "id": "cb5a9ac6",
   "metadata": {},
   "source": [
    "The prermeability of the core is $\\mu = \\dfrac{B}{H}$"
   ]
  },
  {
   "cell_type": "code",
   "execution_count": 7,
   "id": "0571e05b",
   "metadata": {},
   "outputs": [
    {
     "name": "stdout",
     "output_type": "stream",
     "text": [
      "mu = 0.000500 H/m\n"
     ]
    }
   ],
   "source": [
    "mu = B / H\n",
    "print('mu = {:.6f} H/m'.format(mu))"
   ]
  },
  {
   "cell_type": "markdown",
   "id": "2382717a",
   "metadata": {},
   "source": [
    "The elative permeability of the material is $\\mu_r = \\dfrac{\\mu}{\\mu_0}$"
   ]
  },
  {
   "cell_type": "code",
   "execution_count": 8,
   "id": "30b42c73",
   "metadata": {},
   "outputs": [
    {
     "name": "stdout",
     "output_type": "stream",
     "text": [
      "mu_r = 397.89\n"
     ]
    }
   ],
   "source": [
    "mu_r = mu/c.mu_0\n",
    "print('mu_r = {:.2f}'.format(mu_r))"
   ]
  }
 ],
 "metadata": {
  "kernelspec": {
   "display_name": "Python 3",
   "language": "python",
   "name": "python3"
  },
  "language_info": {
   "codemirror_mode": {
    "name": "ipython",
    "version": 3
   },
   "file_extension": ".py",
   "mimetype": "text/x-python",
   "name": "python",
   "nbconvert_exporter": "python",
   "pygments_lexer": "ipython3",
   "version": "3.8.8"
  }
 },
 "nbformat": 4,
 "nbformat_minor": 5
}
