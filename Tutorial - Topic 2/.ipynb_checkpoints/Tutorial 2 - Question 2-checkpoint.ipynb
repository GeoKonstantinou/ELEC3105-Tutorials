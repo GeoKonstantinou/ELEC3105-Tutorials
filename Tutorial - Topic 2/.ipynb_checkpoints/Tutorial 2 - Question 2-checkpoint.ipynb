{
 "cells": [
  {
   "cell_type": "markdown",
   "id": "af23dba3",
   "metadata": {},
   "source": [
    "## ELEC 3105\n",
    "## Tutorial 2 - Three-Phase Circuits\n",
    "## Question 2"
   ]
  },
  {
   "cell_type": "code",
   "execution_count": 1,
   "id": "67495d07",
   "metadata": {},
   "outputs": [
    {
     "data": {
      "text/html": [
       "<button onclick=\"$('.input, .prompt, .output_stderr, .output_error').toggle();\n",
       "\">Click here to toggle on/off the raw code</button>"
      ]
     },
     "metadata": {},
     "output_type": "display_data"
    }
   ],
   "source": [
    "from IPython.display import display_html\n",
    "display_html(\"\"\"<button onclick=\"$('.input, .prompt, .output_stderr, .output_error').toggle();\n",
    "\">Click here to toggle on/off the raw code</button>\"\"\", raw=True)"
   ]
  },
  {
   "cell_type": "code",
   "execution_count": 2,
   "id": "03cd7dad",
   "metadata": {},
   "outputs": [
    {
     "name": "stdout",
     "output_type": "stream",
     "text": [
      "Populating the interactive namespace from numpy and matplotlib\n"
     ]
    }
   ],
   "source": [
    "%pylab inline\n",
    "%precision %.4g\n",
    "import cmath\n",
    "from scipy import constants as c   # Enables constants in the Notebook"
   ]
  },
  {
   "cell_type": "markdown",
   "id": "2347825f",
   "metadata": {},
   "source": [
    "Obtain the line currents in the three-phase circuit of the following figure."
   ]
  },
  {
   "cell_type": "code",
   "execution_count": null,
   "id": "b10e7ee7",
   "metadata": {},
   "outputs": [],
   "source": [
    "from IPython.display import Image\n",
    "Image(filename=\"Figures\\T2_Q2_Fig1.png\",width=400,height=400)"
   ]
  },
  {
   "cell_type": "markdown",
   "id": "82cf7600",
   "metadata": {},
   "source": [
    "### Answer"
   ]
  },
  {
   "cell_type": "code",
   "execution_count": null,
   "id": "ac618162",
   "metadata": {},
   "outputs": [],
   "source": []
  }
 ],
 "metadata": {
  "kernelspec": {
   "display_name": "Python 3",
   "language": "python",
   "name": "python3"
  },
  "language_info": {
   "codemirror_mode": {
    "name": "ipython",
    "version": 3
   },
   "file_extension": ".py",
   "mimetype": "text/x-python",
   "name": "python",
   "nbconvert_exporter": "python",
   "pygments_lexer": "ipython3",
   "version": "3.8.8"
  }
 },
 "nbformat": 4,
 "nbformat_minor": 5
}
